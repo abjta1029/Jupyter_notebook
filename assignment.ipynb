{
 "cells": [
  {
   "cell_type": "markdown",
   "id": "5250dbe6",
   "metadata": {},
   "source": [
    "# Data Visualization Assignment"
   ]
  },
  {
   "cell_type": "markdown",
   "id": "a08caed9",
   "metadata": {},
   "source": [
    "**About Dataset-** Physical and Mental health data of group of individuals. Dataset[assignment](https://github.com/abjta1029/sample_data_files/blob/main/assignment.xlsx)"
   ]
  },
  {
   "cell_type": "markdown",
   "id": "e512e8b2",
   "metadata": {},
   "source": [
    "**README-**[README](https://github.com/abjta1029/sample_data_files/blob/main/readme_file.pdf)"
   ]
  },
  {
   "cell_type": "markdown",
   "id": "0f3251d8",
   "metadata": {},
   "source": [
    "**Submitted By-**\\\n",
    "Name-ABHIJEET ANAND\\\n",
    "Email- abjta1029@gmail.com"
   ]
  },
  {
   "cell_type": "markdown",
   "id": "298a2f2f",
   "metadata": {},
   "source": [
    "   "
   ]
  },
  {
   "cell_type": "markdown",
   "id": "81378878",
   "metadata": {},
   "source": [
    "**Importing Libraries**"
   ]
  },
  {
   "cell_type": "code",
   "execution_count": 1,
   "id": "0b8ca8a9",
   "metadata": {},
   "outputs": [],
   "source": [
    "import pandas as pd\n",
    "import numpy as np"
   ]
  },
  {
   "cell_type": "code",
   "execution_count": 2,
   "id": "8c74e525",
   "metadata": {},
   "outputs": [],
   "source": [
    "import matplotlib.pyplot as plt\n",
    "import seaborn as sns\n",
    "%matplotlib inline"
   ]
  },
  {
   "cell_type": "markdown",
   "id": "94e37d54",
   "metadata": {},
   "source": [
    "  "
   ]
  },
  {
   "cell_type": "markdown",
   "id": "3e235f1f",
   "metadata": {},
   "source": [
    "**Importing Dataset**"
   ]
  },
  {
   "cell_type": "code",
   "execution_count": 3,
   "id": "ba9c5f06",
   "metadata": {},
   "outputs": [],
   "source": [
    "df=pd.read_excel('assignment.xlsx',sheet_name='Sheet1')"
   ]
  },
  {
   "cell_type": "code",
   "execution_count": 4,
   "id": "29a24df9",
   "metadata": {},
   "outputs": [],
   "source": [
    "df=df.set_index('ID')"
   ]
  },
  {
   "cell_type": "code",
   "execution_count": 5,
   "id": "47d0baec",
   "metadata": {},
   "outputs": [
    {
     "data": {
      "text/html": [
       "<div>\n",
       "<style scoped>\n",
       "    .dataframe tbody tr th:only-of-type {\n",
       "        vertical-align: middle;\n",
       "    }\n",
       "\n",
       "    .dataframe tbody tr th {\n",
       "        vertical-align: top;\n",
       "    }\n",
       "\n",
       "    .dataframe thead th {\n",
       "        text-align: right;\n",
       "    }\n",
       "</style>\n",
       "<table border=\"1\" class=\"dataframe\">\n",
       "  <thead>\n",
       "    <tr style=\"text-align: right;\">\n",
       "      <th></th>\n",
       "      <th>Name</th>\n",
       "      <th>Age</th>\n",
       "      <th>Gender</th>\n",
       "      <th>Height</th>\n",
       "      <th>Weight</th>\n",
       "      <th>BMI</th>\n",
       "      <th>Occupation</th>\n",
       "      <th>Marital Status</th>\n",
       "      <th>Diet</th>\n",
       "      <th>Allergy</th>\n",
       "      <th>Skin allergies</th>\n",
       "      <th>Alcohol intake</th>\n",
       "      <th>Smoking Cigars</th>\n",
       "      <th>Addiction(Others if any)</th>\n",
       "      <th>Preffered cooking oil</th>\n",
       "      <th>Salt</th>\n",
       "      <th>Sweet</th>\n",
       "    </tr>\n",
       "    <tr>\n",
       "      <th>ID</th>\n",
       "      <th></th>\n",
       "      <th></th>\n",
       "      <th></th>\n",
       "      <th></th>\n",
       "      <th></th>\n",
       "      <th></th>\n",
       "      <th></th>\n",
       "      <th></th>\n",
       "      <th></th>\n",
       "      <th></th>\n",
       "      <th></th>\n",
       "      <th></th>\n",
       "      <th></th>\n",
       "      <th></th>\n",
       "      <th></th>\n",
       "      <th></th>\n",
       "      <th></th>\n",
       "    </tr>\n",
       "  </thead>\n",
       "  <tbody>\n",
       "    <tr>\n",
       "      <th>32</th>\n",
       "      <td>arya tara rai</td>\n",
       "      <td>7</td>\n",
       "      <td>f</td>\n",
       "      <td>170</td>\n",
       "      <td>70</td>\n",
       "      <td>23</td>\n",
       "      <td>doctor</td>\n",
       "      <td>married</td>\n",
       "      <td>non-veg(readmeat)</td>\n",
       "      <td>no</td>\n",
       "      <td>no</td>\n",
       "      <td>nil</td>\n",
       "      <td>nil</td>\n",
       "      <td>nil</td>\n",
       "      <td>sunflower oil,mustard oil</td>\n",
       "      <td>not interested</td>\n",
       "      <td>craves</td>\n",
       "    </tr>\n",
       "    <tr>\n",
       "      <th>66</th>\n",
       "      <td>sriya  sreenivasan</td>\n",
       "      <td>7</td>\n",
       "      <td>f</td>\n",
       "      <td>122</td>\n",
       "      <td>35</td>\n",
       "      <td>23</td>\n",
       "      <td>doctor</td>\n",
       "      <td>married</td>\n",
       "      <td>non-veg(readmeat)</td>\n",
       "      <td>no</td>\n",
       "      <td>no</td>\n",
       "      <td>nil</td>\n",
       "      <td>nil</td>\n",
       "      <td>nil</td>\n",
       "      <td>nil</td>\n",
       "      <td>craves</td>\n",
       "      <td>craves</td>\n",
       "    </tr>\n",
       "    <tr>\n",
       "      <th>109</th>\n",
       "      <td>shitanshu verma</td>\n",
       "      <td>5</td>\n",
       "      <td>m</td>\n",
       "      <td>170</td>\n",
       "      <td>70</td>\n",
       "      <td>23</td>\n",
       "      <td>doctor</td>\n",
       "      <td>married</td>\n",
       "      <td>vegeterian(green leafy)</td>\n",
       "      <td>no</td>\n",
       "      <td>yes</td>\n",
       "      <td>nil</td>\n",
       "      <td>nil</td>\n",
       "      <td>nil</td>\n",
       "      <td>mustard oil</td>\n",
       "      <td>craves</td>\n",
       "      <td>craves</td>\n",
       "    </tr>\n",
       "    <tr>\n",
       "      <th>151</th>\n",
       "      <td>rizanizar</td>\n",
       "      <td>10</td>\n",
       "      <td>f</td>\n",
       "      <td>130</td>\n",
       "      <td>25</td>\n",
       "      <td>23</td>\n",
       "      <td>doctor</td>\n",
       "      <td>married</td>\n",
       "      <td>non-veg(chicken)</td>\n",
       "      <td>yes</td>\n",
       "      <td>yes</td>\n",
       "      <td>nil</td>\n",
       "      <td>nil</td>\n",
       "      <td>nil</td>\n",
       "      <td>coconut oil ,olive oil and sunflower oil (rarely)</td>\n",
       "      <td>not interested</td>\n",
       "      <td>not interested</td>\n",
       "    </tr>\n",
       "    <tr>\n",
       "      <th>164</th>\n",
       "      <td>iffa ahmed</td>\n",
       "      <td>10</td>\n",
       "      <td>f</td>\n",
       "      <td>149</td>\n",
       "      <td>38</td>\n",
       "      <td>23</td>\n",
       "      <td>doctor</td>\n",
       "      <td>married</td>\n",
       "      <td>non-veg(chicken)</td>\n",
       "      <td>no</td>\n",
       "      <td>yes</td>\n",
       "      <td>nil</td>\n",
       "      <td>nil</td>\n",
       "      <td>nil</td>\n",
       "      <td>rice bran oil</td>\n",
       "      <td>craves</td>\n",
       "      <td>craves</td>\n",
       "    </tr>\n",
       "  </tbody>\n",
       "</table>\n",
       "</div>"
      ],
      "text/plain": [
       "                  Name   Age  Gender  Height   Weight   BMI Occupation  \\\n",
       "ID                                                                       \n",
       "32        arya tara rai     7      f      170       70   23     doctor   \n",
       "66   sriya  sreenivasan     7      f      122       35   23     doctor   \n",
       "109     shitanshu verma     5      m      170       70   23     doctor   \n",
       "151           rizanizar    10      f      130       25   23     doctor   \n",
       "164         iffa ahmed     10      f      149       38   23     doctor   \n",
       "\n",
       "    Marital Status                     Diet Allergy Skin allergies   \\\n",
       "ID                                                                    \n",
       "32         married        non-veg(readmeat)      no              no   \n",
       "66         married        non-veg(readmeat)      no              no   \n",
       "109        married  vegeterian(green leafy)      no             yes   \n",
       "151        married         non-veg(chicken)     yes             yes   \n",
       "164        married         non-veg(chicken)      no             yes   \n",
       "\n",
       "    Alcohol intake Smoking Cigars Addiction(Others if any)  \\\n",
       "ID                                                           \n",
       "32             nil            nil                      nil   \n",
       "66             nil            nil                      nil   \n",
       "109            nil            nil                      nil   \n",
       "151            nil            nil                      nil   \n",
       "164            nil            nil                      nil   \n",
       "\n",
       "                                 Preffered cooking oil            Salt  \\\n",
       "ID                                                                       \n",
       "32                           sunflower oil,mustard oil  not interested   \n",
       "66                                                 nil          craves   \n",
       "109                                       mustard oil           craves   \n",
       "151  coconut oil ,olive oil and sunflower oil (rarely)  not interested   \n",
       "164                                     rice bran oil           craves   \n",
       "\n",
       "              Sweet  \n",
       "ID                   \n",
       "32           craves  \n",
       "66           craves  \n",
       "109          craves  \n",
       "151  not interested  \n",
       "164          craves  "
      ]
     },
     "execution_count": 5,
     "metadata": {},
     "output_type": "execute_result"
    }
   ],
   "source": [
    "df.head()"
   ]
  },
  {
   "cell_type": "code",
   "execution_count": 6,
   "id": "9392f2c0",
   "metadata": {},
   "outputs": [
    {
     "name": "stdout",
     "output_type": "stream",
     "text": [
      "<class 'pandas.core.frame.DataFrame'>\n",
      "Int64Index: 23 entries, 32 to 4072\n",
      "Data columns (total 17 columns):\n",
      " #   Column                    Non-Null Count  Dtype \n",
      "---  ------                    --------------  ----- \n",
      " 0   Name                      23 non-null     object\n",
      " 1   Age                       23 non-null     int64 \n",
      " 2   Gender                    23 non-null     object\n",
      " 3   Height                    23 non-null     int64 \n",
      " 4   Weight                    23 non-null     int64 \n",
      " 5   BMI                       23 non-null     int64 \n",
      " 6   Occupation                23 non-null     object\n",
      " 7   Marital Status            23 non-null     object\n",
      " 8   Diet                      23 non-null     object\n",
      " 9   Allergy                   18 non-null     object\n",
      " 10  Skin allergies            23 non-null     object\n",
      " 11  Alcohol intake            23 non-null     object\n",
      " 12  Smoking Cigars            23 non-null     object\n",
      " 13  Addiction(Others if any)  23 non-null     object\n",
      " 14  Preffered cooking oil     23 non-null     object\n",
      " 15  Salt                      23 non-null     object\n",
      " 16  Sweet                     23 non-null     object\n",
      "dtypes: int64(4), object(13)\n",
      "memory usage: 3.2+ KB\n"
     ]
    }
   ],
   "source": [
    "df.info()"
   ]
  },
  {
   "cell_type": "markdown",
   "id": "d1ed8648",
   "metadata": {},
   "source": [
    "  "
   ]
  },
  {
   "cell_type": "markdown",
   "id": "2a3f61a6",
   "metadata": {},
   "source": [
    "### Basic Analysis"
   ]
  },
  {
   "cell_type": "code",
   "execution_count": 7,
   "id": "d3fc862c",
   "metadata": {},
   "outputs": [
    {
     "data": {
      "text/plain": [
       "f    14\n",
       "m     9\n",
       "Name: Gender, dtype: int64"
      ]
     },
     "execution_count": 7,
     "metadata": {},
     "output_type": "execute_result"
    }
   ],
   "source": [
    "df['Gender'].value_counts()  # number of male and female in given dataset"
   ]
  },
  {
   "cell_type": "code",
   "execution_count": 8,
   "id": "4f08601b",
   "metadata": {},
   "outputs": [
    {
     "data": {
      "text/html": [
       "<div>\n",
       "<style scoped>\n",
       "    .dataframe tbody tr th:only-of-type {\n",
       "        vertical-align: middle;\n",
       "    }\n",
       "\n",
       "    .dataframe tbody tr th {\n",
       "        vertical-align: top;\n",
       "    }\n",
       "\n",
       "    .dataframe thead th {\n",
       "        text-align: right;\n",
       "    }\n",
       "</style>\n",
       "<table border=\"1\" class=\"dataframe\">\n",
       "  <thead>\n",
       "    <tr style=\"text-align: right;\">\n",
       "      <th></th>\n",
       "      <th>Height</th>\n",
       "      <th>Weight</th>\n",
       "      <th>BMI</th>\n",
       "    </tr>\n",
       "  </thead>\n",
       "  <tbody>\n",
       "    <tr>\n",
       "      <th>count</th>\n",
       "      <td>23.000000</td>\n",
       "      <td>23.000000</td>\n",
       "      <td>23.000000</td>\n",
       "    </tr>\n",
       "    <tr>\n",
       "      <th>mean</th>\n",
       "      <td>142.826087</td>\n",
       "      <td>44.130435</td>\n",
       "      <td>21.347826</td>\n",
       "    </tr>\n",
       "    <tr>\n",
       "      <th>std</th>\n",
       "      <td>21.278782</td>\n",
       "      <td>20.789649</td>\n",
       "      <td>3.039269</td>\n",
       "    </tr>\n",
       "    <tr>\n",
       "      <th>min</th>\n",
       "      <td>111.000000</td>\n",
       "      <td>21.000000</td>\n",
       "      <td>14.000000</td>\n",
       "    </tr>\n",
       "    <tr>\n",
       "      <th>25%</th>\n",
       "      <td>122.000000</td>\n",
       "      <td>26.000000</td>\n",
       "      <td>20.500000</td>\n",
       "    </tr>\n",
       "    <tr>\n",
       "      <th>50%</th>\n",
       "      <td>140.000000</td>\n",
       "      <td>35.000000</td>\n",
       "      <td>23.000000</td>\n",
       "    </tr>\n",
       "    <tr>\n",
       "      <th>75%</th>\n",
       "      <td>170.000000</td>\n",
       "      <td>70.000000</td>\n",
       "      <td>23.000000</td>\n",
       "    </tr>\n",
       "    <tr>\n",
       "      <th>max</th>\n",
       "      <td>170.000000</td>\n",
       "      <td>70.000000</td>\n",
       "      <td>24.000000</td>\n",
       "    </tr>\n",
       "  </tbody>\n",
       "</table>\n",
       "</div>"
      ],
      "text/plain": [
       "          Height     Weight         BMI\n",
       "count   23.000000  23.000000  23.000000\n",
       "mean   142.826087  44.130435  21.347826\n",
       "std     21.278782  20.789649   3.039269\n",
       "min    111.000000  21.000000  14.000000\n",
       "25%    122.000000  26.000000  20.500000\n",
       "50%    140.000000  35.000000  23.000000\n",
       "75%    170.000000  70.000000  23.000000\n",
       "max    170.000000  70.000000  24.000000"
      ]
     },
     "execution_count": 8,
     "metadata": {},
     "output_type": "execute_result"
    }
   ],
   "source": [
    "df[['Height ','Weight ','BMI']].describe() "
   ]
  },
  {
   "cell_type": "code",
   "execution_count": 9,
   "id": "4bead122",
   "metadata": {},
   "outputs": [
    {
     "data": {
      "text/html": [
       "<div>\n",
       "<style scoped>\n",
       "    .dataframe tbody tr th:only-of-type {\n",
       "        vertical-align: middle;\n",
       "    }\n",
       "\n",
       "    .dataframe tbody tr th {\n",
       "        vertical-align: top;\n",
       "    }\n",
       "\n",
       "    .dataframe thead th {\n",
       "        text-align: right;\n",
       "    }\n",
       "</style>\n",
       "<table border=\"1\" class=\"dataframe\">\n",
       "  <thead>\n",
       "    <tr style=\"text-align: right;\">\n",
       "      <th></th>\n",
       "      <th>Height</th>\n",
       "      <th>Weight</th>\n",
       "      <th>BMI</th>\n",
       "    </tr>\n",
       "  </thead>\n",
       "  <tbody>\n",
       "    <tr>\n",
       "      <th>Height</th>\n",
       "      <td>1.000000</td>\n",
       "      <td>0.879905</td>\n",
       "      <td>0.336939</td>\n",
       "    </tr>\n",
       "    <tr>\n",
       "      <th>Weight</th>\n",
       "      <td>0.879905</td>\n",
       "      <td>1.000000</td>\n",
       "      <td>0.453181</td>\n",
       "    </tr>\n",
       "    <tr>\n",
       "      <th>BMI</th>\n",
       "      <td>0.336939</td>\n",
       "      <td>0.453181</td>\n",
       "      <td>1.000000</td>\n",
       "    </tr>\n",
       "  </tbody>\n",
       "</table>\n",
       "</div>"
      ],
      "text/plain": [
       "          Height    Weight        BMI\n",
       "Height   1.000000  0.879905  0.336939\n",
       "Weight   0.879905  1.000000  0.453181\n",
       "BMI      0.336939  0.453181  1.000000"
      ]
     },
     "execution_count": 9,
     "metadata": {},
     "output_type": "execute_result"
    }
   ],
   "source": [
    "df[['Height ','Weight ','BMI']].corr()"
   ]
  },
  {
   "cell_type": "code",
   "execution_count": 10,
   "id": "01ccd524",
   "metadata": {},
   "outputs": [
    {
     "data": {
      "text/plain": [
       "doctor        9\n",
       "occupation    5\n",
       "nil           3\n",
       "business      3\n",
       "student       3\n",
       "Name: Occupation, dtype: int64"
      ]
     },
     "execution_count": 10,
     "metadata": {},
     "output_type": "execute_result"
    }
   ],
   "source": [
    "df['Occupation'].value_counts()"
   ]
  },
  {
   "cell_type": "code",
   "execution_count": 11,
   "id": "ab10255d",
   "metadata": {},
   "outputs": [
    {
     "data": {
      "text/plain": [
       "married      17\n",
       "unmarried     6\n",
       "Name: Marital Status, dtype: int64"
      ]
     },
     "execution_count": 11,
     "metadata": {},
     "output_type": "execute_result"
    }
   ],
   "source": [
    "df['Marital Status'].value_counts()"
   ]
  },
  {
   "cell_type": "code",
   "execution_count": 12,
   "id": "e0fdafed",
   "metadata": {},
   "outputs": [
    {
     "data": {
      "text/plain": [
       "<AxesSubplot:xlabel='count', ylabel='Diet'>"
      ]
     },
     "execution_count": 12,
     "metadata": {},
     "output_type": "execute_result"
    },
    {
     "data": {
      "image/png": "[encoded data removed]",
      "text/plain": [
       "<Figure size 432x288 with 1 Axes>"
      ]
     },
     "metadata": {
      "needs_background": "light"
     },
     "output_type": "display_data"
    }
   ],
   "source": [
    "sns.countplot(y='Diet',data=df) # diet followed by individual"
   ]
  },
  {
   "cell_type": "code",
   "execution_count": 13,
   "id": "21dc3e64",
   "metadata": {},
   "outputs": [
    {
     "data": {
      "text/html": [
       "<div>\n",
       "<style scoped>\n",
       "    .dataframe tbody tr th:only-of-type {\n",
       "        vertical-align: middle;\n",
       "    }\n",
       "\n",
       "    .dataframe tbody tr th {\n",
       "        vertical-align: top;\n",
       "    }\n",
       "\n",
       "    .dataframe thead th {\n",
       "        text-align: right;\n",
       "    }\n",
       "</style>\n",
       "<table border=\"1\" class=\"dataframe\">\n",
       "  <thead>\n",
       "    <tr style=\"text-align: right;\">\n",
       "      <th></th>\n",
       "      <th>Name</th>\n",
       "      <th>Gender</th>\n",
       "    </tr>\n",
       "    <tr>\n",
       "      <th>ID</th>\n",
       "      <th></th>\n",
       "      <th></th>\n",
       "    </tr>\n",
       "  </thead>\n",
       "  <tbody>\n",
       "    <tr>\n",
       "      <th>151</th>\n",
       "      <td>rizanizar</td>\n",
       "      <td>f</td>\n",
       "    </tr>\n",
       "    <tr>\n",
       "      <th>728</th>\n",
       "      <td>k shanker</td>\n",
       "      <td>m</td>\n",
       "    </tr>\n",
       "  </tbody>\n",
       "</table>\n",
       "</div>"
      ],
      "text/plain": [
       "         Name  Gender\n",
       "ID                   \n",
       "151  rizanizar      f\n",
       "728  k shanker      m"
      ]
     },
     "execution_count": 13,
     "metadata": {},
     "output_type": "execute_result"
    }
   ],
   "source": [
    "#individuals who have any kind of allergy\n",
    "df[df['Allergy']=='yes'][['Name ','Gender']] "
   ]
  },
  {
   "cell_type": "code",
   "execution_count": 14,
   "id": "65392590",
   "metadata": {},
   "outputs": [
    {
     "data": {
      "text/plain": [
       "yes    17\n",
       "no      6\n",
       "Name: Skin allergies , dtype: int64"
      ]
     },
     "execution_count": 14,
     "metadata": {},
     "output_type": "execute_result"
    }
   ],
   "source": [
    "df['Skin allergies '].value_counts()"
   ]
  },
  {
   "cell_type": "code",
   "execution_count": 15,
   "id": "170c598f",
   "metadata": {},
   "outputs": [
    {
     "data": {
      "text/html": [
       "<div>\n",
       "<style scoped>\n",
       "    .dataframe tbody tr th:only-of-type {\n",
       "        vertical-align: middle;\n",
       "    }\n",
       "\n",
       "    .dataframe tbody tr th {\n",
       "        vertical-align: top;\n",
       "    }\n",
       "\n",
       "    .dataframe thead th {\n",
       "        text-align: right;\n",
       "    }\n",
       "</style>\n",
       "<table border=\"1\" class=\"dataframe\">\n",
       "  <thead>\n",
       "    <tr style=\"text-align: right;\">\n",
       "      <th></th>\n",
       "      <th>Name</th>\n",
       "      <th>Gender</th>\n",
       "    </tr>\n",
       "    <tr>\n",
       "      <th>ID</th>\n",
       "      <th></th>\n",
       "      <th></th>\n",
       "    </tr>\n",
       "  </thead>\n",
       "  <tbody>\n",
       "    <tr>\n",
       "      <th>109</th>\n",
       "      <td>shitanshu verma</td>\n",
       "      <td>m</td>\n",
       "    </tr>\n",
       "    <tr>\n",
       "      <th>151</th>\n",
       "      <td>rizanizar</td>\n",
       "      <td>f</td>\n",
       "    </tr>\n",
       "    <tr>\n",
       "      <th>164</th>\n",
       "      <td>iffa ahmed</td>\n",
       "      <td>f</td>\n",
       "    </tr>\n",
       "    <tr>\n",
       "      <th>173</th>\n",
       "      <td>sheetal kumari</td>\n",
       "      <td>f</td>\n",
       "    </tr>\n",
       "    <tr>\n",
       "      <th>190</th>\n",
       "      <td>devasree</td>\n",
       "      <td>f</td>\n",
       "    </tr>\n",
       "    <tr>\n",
       "      <th>223</th>\n",
       "      <td>amrit t krishnadas</td>\n",
       "      <td>m</td>\n",
       "    </tr>\n",
       "    <tr>\n",
       "      <th>514</th>\n",
       "      <td>annette adarsh kurias</td>\n",
       "      <td>f</td>\n",
       "    </tr>\n",
       "    <tr>\n",
       "      <th>523</th>\n",
       "      <td>druvik rakesh</td>\n",
       "      <td>m</td>\n",
       "    </tr>\n",
       "    <tr>\n",
       "      <th>530</th>\n",
       "      <td>shreyanesh grover</td>\n",
       "      <td>m</td>\n",
       "    </tr>\n",
       "    <tr>\n",
       "      <th>555</th>\n",
       "      <td>kezia johnson</td>\n",
       "      <td>f</td>\n",
       "    </tr>\n",
       "    <tr>\n",
       "      <th>669</th>\n",
       "      <td>miss senora menezes</td>\n",
       "      <td>f</td>\n",
       "    </tr>\n",
       "    <tr>\n",
       "      <th>676</th>\n",
       "      <td>riyana parveen p s</td>\n",
       "      <td>f</td>\n",
       "    </tr>\n",
       "    <tr>\n",
       "      <th>1124</th>\n",
       "      <td>nemy joseph</td>\n",
       "      <td>m</td>\n",
       "    </tr>\n",
       "    <tr>\n",
       "      <th>2496</th>\n",
       "      <td>laxmi</td>\n",
       "      <td>f</td>\n",
       "    </tr>\n",
       "    <tr>\n",
       "      <th>3209</th>\n",
       "      <td>jiya r rakholiya</td>\n",
       "      <td>f</td>\n",
       "    </tr>\n",
       "    <tr>\n",
       "      <th>3740</th>\n",
       "      <td>viraj vishal bekellu</td>\n",
       "      <td>m</td>\n",
       "    </tr>\n",
       "    <tr>\n",
       "      <th>4072</th>\n",
       "      <td>k prabhass</td>\n",
       "      <td>m</td>\n",
       "    </tr>\n",
       "  </tbody>\n",
       "</table>\n",
       "</div>"
      ],
      "text/plain": [
       "                      Name  Gender\n",
       "ID                                \n",
       "109         shitanshu verma      m\n",
       "151               rizanizar      f\n",
       "164             iffa ahmed       f\n",
       "173         sheetal kumari       f\n",
       "190                devasree      f\n",
       "223      amrit t krishnadas      m\n",
       "514   annette adarsh kurias      f\n",
       "523           druvik rakesh      m\n",
       "530       shreyanesh grover      m\n",
       "555          kezia johnson       f\n",
       "669     miss senora menezes      f\n",
       "676      riyana parveen p s      f\n",
       "1124            nemy joseph      m\n",
       "2496                  laxmi      f\n",
       "3209      jiya r rakholiya       f\n",
       "3740   viraj vishal bekellu      m\n",
       "4072             k prabhass      m"
      ]
     },
     "execution_count": 15,
     "metadata": {},
     "output_type": "execute_result"
    }
   ],
   "source": [
    "#individuals who have Skin allergies\n",
    "df[df['Skin allergies ']=='yes'][['Name ','Gender']] "
   ]
  },
  {
   "cell_type": "code",
   "execution_count": 16,
   "id": "de61e957",
   "metadata": {},
   "outputs": [
    {
     "data": {
      "text/html": [
       "<div>\n",
       "<style scoped>\n",
       "    .dataframe tbody tr th:only-of-type {\n",
       "        vertical-align: middle;\n",
       "    }\n",
       "\n",
       "    .dataframe tbody tr th {\n",
       "        vertical-align: top;\n",
       "    }\n",
       "\n",
       "    .dataframe thead th {\n",
       "        text-align: right;\n",
       "    }\n",
       "</style>\n",
       "<table border=\"1\" class=\"dataframe\">\n",
       "  <thead>\n",
       "    <tr style=\"text-align: right;\">\n",
       "      <th></th>\n",
       "      <th>Name</th>\n",
       "      <th>Gender</th>\n",
       "    </tr>\n",
       "    <tr>\n",
       "      <th>ID</th>\n",
       "      <th></th>\n",
       "      <th></th>\n",
       "    </tr>\n",
       "  </thead>\n",
       "  <tbody>\n",
       "    <tr>\n",
       "      <th>283</th>\n",
       "      <td>sriya sreenivasan</td>\n",
       "      <td>f</td>\n",
       "    </tr>\n",
       "    <tr>\n",
       "      <th>374</th>\n",
       "      <td>sabrina gurung</td>\n",
       "      <td>f</td>\n",
       "    </tr>\n",
       "    <tr>\n",
       "      <th>3209</th>\n",
       "      <td>jiya r rakholiya</td>\n",
       "      <td>f</td>\n",
       "    </tr>\n",
       "    <tr>\n",
       "      <th>3740</th>\n",
       "      <td>viraj vishal bekellu</td>\n",
       "      <td>m</td>\n",
       "    </tr>\n",
       "    <tr>\n",
       "      <th>4072</th>\n",
       "      <td>k prabhass</td>\n",
       "      <td>m</td>\n",
       "    </tr>\n",
       "  </tbody>\n",
       "</table>\n",
       "</div>"
      ],
      "text/plain": [
       "                     Name  Gender\n",
       "ID                               \n",
       "283      sriya sreenivasan      f\n",
       "374         sabrina gurung      f\n",
       "3209     jiya r rakholiya       f\n",
       "3740  viraj vishal bekellu      m\n",
       "4072            k prabhass      m"
      ]
     },
     "execution_count": 16,
     "metadata": {},
     "output_type": "execute_result"
    }
   ],
   "source": [
    "#individuals who takes alcohol\n",
    "df[df['Alcohol intake']==1][['Name ','Gender']]  "
   ]
  },
  {
   "cell_type": "code",
   "execution_count": 17,
   "id": "c1e4a0a6",
   "metadata": {},
   "outputs": [
    {
     "data": {
      "text/html": [
       "<div>\n",
       "<style scoped>\n",
       "    .dataframe tbody tr th:only-of-type {\n",
       "        vertical-align: middle;\n",
       "    }\n",
       "\n",
       "    .dataframe tbody tr th {\n",
       "        vertical-align: top;\n",
       "    }\n",
       "\n",
       "    .dataframe thead th {\n",
       "        text-align: right;\n",
       "    }\n",
       "</style>\n",
       "<table border=\"1\" class=\"dataframe\">\n",
       "  <thead>\n",
       "    <tr style=\"text-align: right;\">\n",
       "      <th></th>\n",
       "      <th>Name</th>\n",
       "      <th>Gender</th>\n",
       "    </tr>\n",
       "    <tr>\n",
       "      <th>ID</th>\n",
       "      <th></th>\n",
       "      <th></th>\n",
       "    </tr>\n",
       "  </thead>\n",
       "  <tbody>\n",
       "    <tr>\n",
       "      <th>283</th>\n",
       "      <td>sriya sreenivasan</td>\n",
       "      <td>f</td>\n",
       "    </tr>\n",
       "    <tr>\n",
       "      <th>374</th>\n",
       "      <td>sabrina gurung</td>\n",
       "      <td>f</td>\n",
       "    </tr>\n",
       "    <tr>\n",
       "      <th>3209</th>\n",
       "      <td>jiya r rakholiya</td>\n",
       "      <td>f</td>\n",
       "    </tr>\n",
       "    <tr>\n",
       "      <th>3740</th>\n",
       "      <td>viraj vishal bekellu</td>\n",
       "      <td>m</td>\n",
       "    </tr>\n",
       "    <tr>\n",
       "      <th>4072</th>\n",
       "      <td>k prabhass</td>\n",
       "      <td>m</td>\n",
       "    </tr>\n",
       "  </tbody>\n",
       "</table>\n",
       "</div>"
      ],
      "text/plain": [
       "                     Name  Gender\n",
       "ID                               \n",
       "283      sriya sreenivasan      f\n",
       "374         sabrina gurung      f\n",
       "3209     jiya r rakholiya       f\n",
       "3740  viraj vishal bekellu      m\n",
       "4072            k prabhass      m"
      ]
     },
     "execution_count": 17,
     "metadata": {},
     "output_type": "execute_result"
    }
   ],
   "source": [
    "#individuals who smokes cigars\n",
    "df[df['Smoking Cigars']==1][['Name ','Gender']] "
   ]
  },
  {
   "cell_type": "code",
   "execution_count": 18,
   "id": "8dbeecc9",
   "metadata": {},
   "outputs": [
    {
     "data": {
      "text/plain": [
       "ID\n",
       "3209       jiya r rakholiya \n",
       "3740    viraj vishal bekellu\n",
       "Name: Name , dtype: object"
      ]
     },
     "execution_count": 18,
     "metadata": {},
     "output_type": "execute_result"
    }
   ],
   "source": [
    "#individuals who have addictions other than alcohol and cigars\n",
    "df[df['Addiction(Others if any)']=='yes']['Name '] "
   ]
  },
  {
   "cell_type": "code",
   "execution_count": 18,
   "id": "fd2bf261",
   "metadata": {},
   "outputs": [
    {
     "data": {
      "text/plain": [
       "<AxesSubplot:xlabel='count', ylabel='Preffered cooking oil'>"
      ]
     },
     "execution_count": 18,
     "metadata": {},
     "output_type": "execute_result"
    },
    {
     "data": {
      "image/png": "[encoded data removed]",
      "text/plain": [
       "<Figure size 432x288 with 1 Axes>"
      ]
     },
     "metadata": {
      "needs_background": "light"
     },
     "output_type": "display_data"
    }
   ],
   "source": [
    "sns.countplot(y='Preffered cooking oil',data=df)"
   ]
  },
  {
   "cell_type": "code",
   "execution_count": 19,
   "id": "e0bc8fd3",
   "metadata": {},
   "outputs": [],
   "source": [
    "#individuals who have any kind of craving towards salt or sugar\n",
    "salt=df['Salt'].value_counts()   \n",
    "sweet=df['Sweet'].value_counts()"
   ]
  },
  {
   "cell_type": "code",
   "execution_count": 20,
   "id": "3431f459",
   "metadata": {},
   "outputs": [
    {
     "data": {
      "text/plain": [
       "Text(0.5, 1.0, 'sweet')"
      ]
     },
     "execution_count": 20,
     "metadata": {},
     "output_type": "execute_result"
    },
    {
     "data": {
      "image/png": "[encoded data removed]",
      "text/plain": [
       "<Figure size 432x288 with 2 Axes>"
      ]
     },
     "metadata": {
      "needs_background": "light"
     },
     "output_type": "display_data"
    }
   ],
   "source": [
    "fig, axes= plt.subplots(nrows=1, ncols=2)\n",
    "axes[0].plot(salt,color='green',marker='*')\n",
    "axes[0].set_title('salt')\n",
    "\n",
    "axes[1].plot(salt,color='red',marker='*')\n",
    "axes[1].set_title('sweet')"
   ]
  },
  {
   "cell_type": "markdown",
   "id": "c07cc72b",
   "metadata": {},
   "source": [
    "  "
   ]
  },
  {
   "cell_type": "markdown",
   "id": "9565dd00",
   "metadata": {},
   "source": [
    "### Medical Test Report"
   ]
  },
  {
   "cell_type": "code",
   "execution_count": 21,
   "id": "42880786",
   "metadata": {},
   "outputs": [],
   "source": [
    "df1=pd.read_excel('assignment.xlsx',sheet_name='Sheet2')"
   ]
  },
  {
   "cell_type": "code",
   "execution_count": 22,
   "id": "39b2c2d6",
   "metadata": {},
   "outputs": [],
   "source": [
    "df1=df1.set_index('ID')"
   ]
  },
  {
   "cell_type": "code",
   "execution_count": 23,
   "id": "9ca29e30",
   "metadata": {},
   "outputs": [
    {
     "data": {
      "text/html": [
       "<div>\n",
       "<style scoped>\n",
       "    .dataframe tbody tr th:only-of-type {\n",
       "        vertical-align: middle;\n",
       "    }\n",
       "\n",
       "    .dataframe tbody tr th {\n",
       "        vertical-align: top;\n",
       "    }\n",
       "\n",
       "    .dataframe thead th {\n",
       "        text-align: right;\n",
       "    }\n",
       "</style>\n",
       "<table border=\"1\" class=\"dataframe\">\n",
       "  <thead>\n",
       "    <tr style=\"text-align: right;\">\n",
       "      <th></th>\n",
       "      <th>Blood pressure</th>\n",
       "      <th>Hb</th>\n",
       "      <th>ESR</th>\n",
       "      <th>Fasting blood sugar</th>\n",
       "      <th>HbA1C</th>\n",
       "      <th>Total Cholesterol</th>\n",
       "      <th>HDL</th>\n",
       "      <th>LDL</th>\n",
       "      <th>Triglyceride</th>\n",
       "      <th>TSH</th>\n",
       "      <th>Uric Acid</th>\n",
       "      <th>Urea</th>\n",
       "      <th>Creatinine</th>\n",
       "      <th>SGOT</th>\n",
       "      <th>SGPT</th>\n",
       "    </tr>\n",
       "    <tr>\n",
       "      <th>ID</th>\n",
       "      <th></th>\n",
       "      <th></th>\n",
       "      <th></th>\n",
       "      <th></th>\n",
       "      <th></th>\n",
       "      <th></th>\n",
       "      <th></th>\n",
       "      <th></th>\n",
       "      <th></th>\n",
       "      <th></th>\n",
       "      <th></th>\n",
       "      <th></th>\n",
       "      <th></th>\n",
       "      <th></th>\n",
       "      <th></th>\n",
       "    </tr>\n",
       "  </thead>\n",
       "  <tbody>\n",
       "    <tr>\n",
       "      <th>32</th>\n",
       "      <td>normal</td>\n",
       "      <td>normal</td>\n",
       "      <td>normal</td>\n",
       "      <td>normal</td>\n",
       "      <td>normal</td>\n",
       "      <td>normal</td>\n",
       "      <td>normal</td>\n",
       "      <td>normal</td>\n",
       "      <td>normal</td>\n",
       "      <td>normal</td>\n",
       "      <td>normal</td>\n",
       "      <td>normal</td>\n",
       "      <td>normal</td>\n",
       "      <td>normal</td>\n",
       "      <td>normal</td>\n",
       "    </tr>\n",
       "    <tr>\n",
       "      <th>66</th>\n",
       "      <td>low</td>\n",
       "      <td>low</td>\n",
       "      <td>high</td>\n",
       "      <td>high</td>\n",
       "      <td>high</td>\n",
       "      <td>high</td>\n",
       "      <td>low</td>\n",
       "      <td>high</td>\n",
       "      <td>low</td>\n",
       "      <td>high</td>\n",
       "      <td>low</td>\n",
       "      <td>low</td>\n",
       "      <td>low</td>\n",
       "      <td>low</td>\n",
       "      <td>high</td>\n",
       "    </tr>\n",
       "    <tr>\n",
       "      <th>109</th>\n",
       "      <td>low</td>\n",
       "      <td>low</td>\n",
       "      <td>low</td>\n",
       "      <td>low</td>\n",
       "      <td>low</td>\n",
       "      <td>low</td>\n",
       "      <td>low</td>\n",
       "      <td>low</td>\n",
       "      <td>low</td>\n",
       "      <td>low</td>\n",
       "      <td>low</td>\n",
       "      <td>low</td>\n",
       "      <td>low</td>\n",
       "      <td>low</td>\n",
       "      <td>low</td>\n",
       "    </tr>\n",
       "    <tr>\n",
       "      <th>151</th>\n",
       "      <td>low</td>\n",
       "      <td>low</td>\n",
       "      <td>low</td>\n",
       "      <td>low</td>\n",
       "      <td>low</td>\n",
       "      <td>low</td>\n",
       "      <td>low</td>\n",
       "      <td>low</td>\n",
       "      <td>low</td>\n",
       "      <td>low</td>\n",
       "      <td>low</td>\n",
       "      <td>low</td>\n",
       "      <td>low</td>\n",
       "      <td>low</td>\n",
       "      <td>low</td>\n",
       "    </tr>\n",
       "    <tr>\n",
       "      <th>164</th>\n",
       "      <td>low</td>\n",
       "      <td>low</td>\n",
       "      <td>low</td>\n",
       "      <td>low</td>\n",
       "      <td>low</td>\n",
       "      <td>low</td>\n",
       "      <td>low</td>\n",
       "      <td>low</td>\n",
       "      <td>low</td>\n",
       "      <td>low</td>\n",
       "      <td>low</td>\n",
       "      <td>low</td>\n",
       "      <td>low</td>\n",
       "      <td>low</td>\n",
       "      <td>low</td>\n",
       "    </tr>\n",
       "  </tbody>\n",
       "</table>\n",
       "</div>"
      ],
      "text/plain": [
       "    Blood pressure      Hb     ESR Fasting blood sugar    HbA1C  \\\n",
       "ID                                                                \n",
       "32          normal  normal  normal               normal  normal   \n",
       "66             low     low    high                 high    high   \n",
       "109            low     low     low                  low     low   \n",
       "151            low     low     low                  low     low   \n",
       "164            low     low     low                  low     low   \n",
       "\n",
       "    Total Cholesterol     HDL     LDL Triglyceride     TSH Uric Acid    Urea  \\\n",
       "ID                                                                             \n",
       "32             normal  normal  normal       normal  normal    normal  normal   \n",
       "66               high     low    high          low    high       low     low   \n",
       "109               low     low     low          low     low       low     low   \n",
       "151               low     low     low          low     low       low     low   \n",
       "164               low     low     low          low     low       low     low   \n",
       "\n",
       "    Creatinine    SGOT    SGPT  \n",
       "ID                              \n",
       "32      normal  normal  normal  \n",
       "66         low     low    high  \n",
       "109        low     low     low  \n",
       "151        low     low     low  \n",
       "164        low     low     low  "
      ]
     },
     "execution_count": 23,
     "metadata": {},
     "output_type": "execute_result"
    }
   ],
   "source": [
    "df1.head()"
   ]
  },
  {
   "cell_type": "code",
   "execution_count": 24,
   "id": "6e9196eb",
   "metadata": {},
   "outputs": [
    {
     "data": {
      "text/html": [
       "<div>\n",
       "<style scoped>\n",
       "    .dataframe tbody tr th:only-of-type {\n",
       "        vertical-align: middle;\n",
       "    }\n",
       "\n",
       "    .dataframe tbody tr th {\n",
       "        vertical-align: top;\n",
       "    }\n",
       "\n",
       "    .dataframe thead th {\n",
       "        text-align: right;\n",
       "    }\n",
       "</style>\n",
       "<table border=\"1\" class=\"dataframe\">\n",
       "  <thead>\n",
       "    <tr style=\"text-align: right;\">\n",
       "      <th></th>\n",
       "      <th>Blood pressure</th>\n",
       "      <th>Hb</th>\n",
       "      <th>ESR</th>\n",
       "      <th>Fasting blood sugar</th>\n",
       "      <th>HbA1C</th>\n",
       "      <th>Total Cholesterol</th>\n",
       "      <th>HDL</th>\n",
       "      <th>LDL</th>\n",
       "      <th>Triglyceride</th>\n",
       "      <th>TSH</th>\n",
       "      <th>Uric Acid</th>\n",
       "      <th>Urea</th>\n",
       "      <th>Creatinine</th>\n",
       "      <th>SGOT</th>\n",
       "      <th>SGPT</th>\n",
       "    </tr>\n",
       "  </thead>\n",
       "  <tbody>\n",
       "    <tr>\n",
       "      <th>high</th>\n",
       "      <td>NaN</td>\n",
       "      <td>NaN</td>\n",
       "      <td>1</td>\n",
       "      <td>1</td>\n",
       "      <td>1</td>\n",
       "      <td>1</td>\n",
       "      <td>NaN</td>\n",
       "      <td>2</td>\n",
       "      <td>1</td>\n",
       "      <td>1</td>\n",
       "      <td>NaN</td>\n",
       "      <td>NaN</td>\n",
       "      <td>NaN</td>\n",
       "      <td>NaN</td>\n",
       "      <td>1</td>\n",
       "    </tr>\n",
       "    <tr>\n",
       "      <th>low</th>\n",
       "      <td>8.0</td>\n",
       "      <td>11.0</td>\n",
       "      <td>9</td>\n",
       "      <td>7</td>\n",
       "      <td>8</td>\n",
       "      <td>7</td>\n",
       "      <td>10.0</td>\n",
       "      <td>8</td>\n",
       "      <td>9</td>\n",
       "      <td>8</td>\n",
       "      <td>9.0</td>\n",
       "      <td>9.0</td>\n",
       "      <td>9.0</td>\n",
       "      <td>9.0</td>\n",
       "      <td>9</td>\n",
       "    </tr>\n",
       "    <tr>\n",
       "      <th>normal</th>\n",
       "      <td>15.0</td>\n",
       "      <td>12.0</td>\n",
       "      <td>13</td>\n",
       "      <td>15</td>\n",
       "      <td>14</td>\n",
       "      <td>15</td>\n",
       "      <td>13.0</td>\n",
       "      <td>13</td>\n",
       "      <td>13</td>\n",
       "      <td>14</td>\n",
       "      <td>14.0</td>\n",
       "      <td>14.0</td>\n",
       "      <td>14.0</td>\n",
       "      <td>14.0</td>\n",
       "      <td>13</td>\n",
       "    </tr>\n",
       "  </tbody>\n",
       "</table>\n",
       "</div>"
      ],
      "text/plain": [
       "        Blood pressure    Hb  ESR  Fasting blood sugar   HbA1C  \\\n",
       "high               NaN   NaN    1                     1      1   \n",
       "low                8.0  11.0    9                     7      8   \n",
       "normal            15.0  12.0   13                    15     14   \n",
       "\n",
       "        Total Cholesterol   HDL  LDL  Triglyceride  TSH  Uric Acid  Urea  \\\n",
       "high                    1   NaN    2             1    1        NaN   NaN   \n",
       "low                     7  10.0    8             9    8        9.0   9.0   \n",
       "normal                 15  13.0   13            13   14       14.0  14.0   \n",
       "\n",
       "        Creatinine  SGOT  SGPT  \n",
       "high           NaN   NaN     1  \n",
       "low            9.0   9.0     9  \n",
       "normal        14.0  14.0    13  "
      ]
     },
     "execution_count": 24,
     "metadata": {},
     "output_type": "execute_result"
    }
   ],
   "source": [
    "df1.apply(pd.Series.value_counts)"
   ]
  },
  {
   "cell_type": "code",
   "execution_count": 25,
   "id": "38cc4739",
   "metadata": {},
   "outputs": [],
   "source": [
    "# creating a df(new_df1) by replacing the existing values.\n",
    "new_df1=df1.replace(to_replace=['normal','low','high'],value=[0.5,0,1])"
   ]
  },
  {
   "cell_type": "code",
   "execution_count": 26,
   "id": "7c29f4d8",
   "metadata": {},
   "outputs": [
    {
     "data": {
      "text/plain": [
       "Text(0.5, 1.0, 'Medical Test Report (red=high,blue=low & gray=normal)')"
      ]
     },
     "execution_count": 26,
     "metadata": {},
     "output_type": "execute_result"
    },
    {
     "data": {
      "image/png": "[encoded data removed]",
      "text/plain": [
       "<Figure size 1080x576 with 2 Axes>"
      ]
     },
     "metadata": {
      "needs_background": "light"
     },
     "output_type": "display_data"
    }
   ],
   "source": [
    "plt.figure(figsize=(15,8))\n",
    "sns.heatmap(new_df1,cmap='coolwarm',linecolor='white',linewidths=1)   \n",
    "#Visualization that represents 'red=high' and 'blue=low'\n",
    "plt.title('Medical Test Report (red=high,blue=low & gray=normal)')"
   ]
  },
  {
   "cell_type": "code",
   "execution_count": 27,
   "id": "3039d6e2",
   "metadata": {},
   "outputs": [],
   "source": [
    "# creating a df(report_value) by replacing the existing values.\n",
    "report_value=df1.replace(to_replace=['normal','low','high'],value=[1,0,0])"
   ]
  },
  {
   "cell_type": "code",
   "execution_count": 28,
   "id": "bb8bc2cb",
   "metadata": {},
   "outputs": [],
   "source": [
    "# creating a function to add all the values present in columns.\n",
    "def sum_of_columns(dataframe, new_col_name, list_of_cols_to_sum):\n",
    "    dataframe[new_col_name] = dataframe[list_of_cols_to_sum].astype(float).sum(axis=1)\n",
    "    return(dataframe)"
   ]
  },
  {
   "cell_type": "code",
   "execution_count": 29,
   "id": "97d21b96",
   "metadata": {},
   "outputs": [],
   "source": [
    "# created new column with sum of all the present values.\n",
    "new_column=sum_of_columns(report_value, 'Test report', ['Blood pressure','Hb','ESR','Fasting blood sugar ','HbA1C','Total Cholesterol','HDL','LDL','Triglyceride','TSH','Uric Acid','Urea','Creatinine','SGOT','SGPT'])"
   ]
  },
  {
   "cell_type": "code",
   "execution_count": 30,
   "id": "ec826558",
   "metadata": {},
   "outputs": [],
   "source": [
    "# using lambda expression to segregate values on given conditions\n",
    "result=new_column['Test report'].apply(lambda test_value:'In good health' if test_value==15  else('Relatively weak health'if test_value>8 else 'Unhealthy'))"
   ]
  },
  {
   "cell_type": "code",
   "execution_count": 32,
   "id": "dcd00d58",
   "metadata": {},
   "outputs": [
    {
     "data": {
      "text/html": [
       "<div>\n",
       "<style scoped>\n",
       "    .dataframe tbody tr th:only-of-type {\n",
       "        vertical-align: middle;\n",
       "    }\n",
       "\n",
       "    .dataframe tbody tr th {\n",
       "        vertical-align: top;\n",
       "    }\n",
       "\n",
       "    .dataframe thead th {\n",
       "        text-align: right;\n",
       "    }\n",
       "</style>\n",
       "<table border=\"1\" class=\"dataframe\">\n",
       "  <thead>\n",
       "    <tr style=\"text-align: right;\">\n",
       "      <th></th>\n",
       "      <th>Name</th>\n",
       "      <th>Test report</th>\n",
       "    </tr>\n",
       "    <tr>\n",
       "      <th>ID</th>\n",
       "      <th></th>\n",
       "      <th></th>\n",
       "    </tr>\n",
       "  </thead>\n",
       "  <tbody>\n",
       "    <tr>\n",
       "      <th>32</th>\n",
       "      <td>arya tara rai</td>\n",
       "      <td>In good health</td>\n",
       "    </tr>\n",
       "    <tr>\n",
       "      <th>66</th>\n",
       "      <td>sriya  sreenivasan</td>\n",
       "      <td>Unhealthy</td>\n",
       "    </tr>\n",
       "    <tr>\n",
       "      <th>109</th>\n",
       "      <td>shitanshu verma</td>\n",
       "      <td>Unhealthy</td>\n",
       "    </tr>\n",
       "    <tr>\n",
       "      <th>151</th>\n",
       "      <td>rizanizar</td>\n",
       "      <td>Unhealthy</td>\n",
       "    </tr>\n",
       "    <tr>\n",
       "      <th>164</th>\n",
       "      <td>iffa ahmed</td>\n",
       "      <td>Unhealthy</td>\n",
       "    </tr>\n",
       "    <tr>\n",
       "      <th>173</th>\n",
       "      <td>sheetal kumari</td>\n",
       "      <td>Unhealthy</td>\n",
       "    </tr>\n",
       "    <tr>\n",
       "      <th>190</th>\n",
       "      <td>devasree</td>\n",
       "      <td>Unhealthy</td>\n",
       "    </tr>\n",
       "    <tr>\n",
       "      <th>223</th>\n",
       "      <td>amrit t krishnadas</td>\n",
       "      <td>Unhealthy</td>\n",
       "    </tr>\n",
       "    <tr>\n",
       "      <th>283</th>\n",
       "      <td>sriya sreenivasan</td>\n",
       "      <td>In good health</td>\n",
       "    </tr>\n",
       "    <tr>\n",
       "      <th>374</th>\n",
       "      <td>sabrina gurung</td>\n",
       "      <td>In good health</td>\n",
       "    </tr>\n",
       "  </tbody>\n",
       "</table>\n",
       "</div>"
      ],
      "text/plain": [
       "                  Name      Test report\n",
       "ID                                     \n",
       "32        arya tara rai  In good health\n",
       "66   sriya  sreenivasan       Unhealthy\n",
       "109     shitanshu verma       Unhealthy\n",
       "151           rizanizar       Unhealthy\n",
       "164         iffa ahmed        Unhealthy\n",
       "173     sheetal kumari        Unhealthy\n",
       "190            devasree       Unhealthy\n",
       "223  amrit t krishnadas       Unhealthy\n",
       "283   sriya sreenivasan  In good health\n",
       "374      sabrina gurung  In good health"
      ]
     },
     "execution_count": 32,
     "metadata": {},
     "output_type": "execute_result"
    }
   ],
   "source": [
    "test_report=df.join(result,how='inner')[['Name ','Test report']]\n",
    "test_report.head(10)"
   ]
  },
  {
   "cell_type": "code",
   "execution_count": 33,
   "id": "86f45299",
   "metadata": {},
   "outputs": [
    {
     "data": {
      "image/png": "[encoded data removed]",
      "text/plain": [
       "<Figure size 432x288 with 1 Axes>"
      ]
     },
     "metadata": {},
     "output_type": "display_data"
    }
   ],
   "source": [
    "plot_val=test_report['Test report'].value_counts()\n",
    "plt.pie(plot_val,labels=('In good health','Relatively weak health','Unhealthy'),autopct='%1.2f%%')\n",
    "plt.title('Medical Test Report')\n",
    "plt.show()"
   ]
  },
  {
   "cell_type": "markdown",
   "id": "b20bd216",
   "metadata": {},
   "source": [
    "  "
   ]
  },
  {
   "cell_type": "markdown",
   "id": "21319d73",
   "metadata": {},
   "source": [
    "### Self Assessment"
   ]
  },
  {
   "cell_type": "code",
   "execution_count": 34,
   "id": "32e04064",
   "metadata": {},
   "outputs": [],
   "source": [
    "df2=pd.read_excel('assignment.xlsx',sheet_name='Sheet3')"
   ]
  },
  {
   "cell_type": "code",
   "execution_count": 35,
   "id": "aa887234",
   "metadata": {},
   "outputs": [],
   "source": [
    "df2=df2.set_index('ID')"
   ]
  },
  {
   "cell_type": "code",
   "execution_count": 36,
   "id": "6f66095e",
   "metadata": {},
   "outputs": [
    {
     "data": {
      "text/html": [
       "<div>\n",
       "<style scoped>\n",
       "    .dataframe tbody tr th:only-of-type {\n",
       "        vertical-align: middle;\n",
       "    }\n",
       "\n",
       "    .dataframe tbody tr th {\n",
       "        vertical-align: top;\n",
       "    }\n",
       "\n",
       "    .dataframe thead th {\n",
       "        text-align: right;\n",
       "    }\n",
       "</style>\n",
       "<table border=\"1\" class=\"dataframe\">\n",
       "  <thead>\n",
       "    <tr style=\"text-align: right;\">\n",
       "      <th></th>\n",
       "      <th>1.On a scale of 1-5, how much do you feel irritable if there is a delay in food or if a meal is missed?</th>\n",
       "      <th>2. On a scale of 1-5, how much fatigue do you feel after having your meals?</th>\n",
       "      <th>3. On a scale of 1-5 how will you rate your thirst on a normal day?</th>\n",
       "      <th>4. On a scale of 1-5 how will you rate your appetite on a normal day?</th>\n",
       "      <th>5. On a scale of 1-5 how much do you feel sluggish or less energetic(physically) these days?</th>\n",
       "      <th>6. On a scale of 1-5, how often do you feel mentally sluggish these days?</th>\n",
       "      <th>7. On a scale of 1-5, how much do you feel difficulty in focussing or difficulty in concentrating?</th>\n",
       "      <th>8. On a scale of 1-5, how much do you feel sleepy during the day?</th>\n",
       "    </tr>\n",
       "    <tr>\n",
       "      <th>ID</th>\n",
       "      <th></th>\n",
       "      <th></th>\n",
       "      <th></th>\n",
       "      <th></th>\n",
       "      <th></th>\n",
       "      <th></th>\n",
       "      <th></th>\n",
       "      <th></th>\n",
       "    </tr>\n",
       "  </thead>\n",
       "  <tbody>\n",
       "    <tr>\n",
       "      <th>32</th>\n",
       "      <td>1</td>\n",
       "      <td>1</td>\n",
       "      <td>1</td>\n",
       "      <td>3</td>\n",
       "      <td>1</td>\n",
       "      <td>1</td>\n",
       "      <td>5</td>\n",
       "      <td>1</td>\n",
       "    </tr>\n",
       "    <tr>\n",
       "      <th>66</th>\n",
       "      <td>5</td>\n",
       "      <td>1</td>\n",
       "      <td>1</td>\n",
       "      <td>1</td>\n",
       "      <td>1</td>\n",
       "      <td>1</td>\n",
       "      <td>1</td>\n",
       "      <td>1</td>\n",
       "    </tr>\n",
       "    <tr>\n",
       "      <th>109</th>\n",
       "      <td>1</td>\n",
       "      <td>1</td>\n",
       "      <td>5</td>\n",
       "      <td>5</td>\n",
       "      <td>5</td>\n",
       "      <td>1</td>\n",
       "      <td>5</td>\n",
       "      <td>1</td>\n",
       "    </tr>\n",
       "    <tr>\n",
       "      <th>151</th>\n",
       "      <td>1</td>\n",
       "      <td>1</td>\n",
       "      <td>1</td>\n",
       "      <td>1</td>\n",
       "      <td>1</td>\n",
       "      <td>1</td>\n",
       "      <td>1</td>\n",
       "      <td>1</td>\n",
       "    </tr>\n",
       "    <tr>\n",
       "      <th>164</th>\n",
       "      <td>5</td>\n",
       "      <td>1</td>\n",
       "      <td>5</td>\n",
       "      <td>1</td>\n",
       "      <td>5</td>\n",
       "      <td>5</td>\n",
       "      <td>5</td>\n",
       "      <td>1</td>\n",
       "    </tr>\n",
       "  </tbody>\n",
       "</table>\n",
       "</div>"
      ],
      "text/plain": [
       "     1.On a scale of 1-5, how much do you feel irritable if there is a delay in food or if a meal is missed?  \\\n",
       "ID                                                                                                             \n",
       "32                                                   1                                                         \n",
       "66                                                   5                                                         \n",
       "109                                                  1                                                         \n",
       "151                                                  1                                                         \n",
       "164                                                  5                                                         \n",
       "\n",
       "     2. On a scale of 1-5, how much fatigue do you feel after having your meals?  \\\n",
       "ID                                                                                 \n",
       "32                                                   1                             \n",
       "66                                                   1                             \n",
       "109                                                  1                             \n",
       "151                                                  1                             \n",
       "164                                                  1                             \n",
       "\n",
       "     3. On a scale of 1-5 how will you rate your thirst on a normal day?  \\\n",
       "ID                                                                         \n",
       "32                                                   1                     \n",
       "66                                                   1                     \n",
       "109                                                  5                     \n",
       "151                                                  1                     \n",
       "164                                                  5                     \n",
       "\n",
       "     4. On a scale of 1-5 how will you rate your appetite on a normal day?  \\\n",
       "ID                                                                           \n",
       "32                                                   3                       \n",
       "66                                                   1                       \n",
       "109                                                  5                       \n",
       "151                                                  1                       \n",
       "164                                                  1                       \n",
       "\n",
       "     5. On a scale of 1-5 how much do you feel sluggish or less energetic(physically) these days?  \\\n",
       "ID                                                                                                  \n",
       "32                                                   1                                              \n",
       "66                                                   1                                              \n",
       "109                                                  5                                              \n",
       "151                                                  1                                              \n",
       "164                                                  5                                              \n",
       "\n",
       "     6. On a scale of 1-5, how often do you feel mentally sluggish these days?  \\\n",
       "ID                                                                               \n",
       "32                                                   1                           \n",
       "66                                                   1                           \n",
       "109                                                  1                           \n",
       "151                                                  1                           \n",
       "164                                                  5                           \n",
       "\n",
       "     7. On a scale of 1-5, how much do you feel difficulty in focussing or difficulty in concentrating?  \\\n",
       "ID                                                                                                        \n",
       "32                                                   5                                                    \n",
       "66                                                   1                                                    \n",
       "109                                                  5                                                    \n",
       "151                                                  1                                                    \n",
       "164                                                  5                                                    \n",
       "\n",
       "     8. On a scale of 1-5, how much do you feel sleepy during the day?  \n",
       "ID                                                                      \n",
       "32                                                   1                  \n",
       "66                                                   1                  \n",
       "109                                                  1                  \n",
       "151                                                  1                  \n",
       "164                                                  1                  "
      ]
     },
     "execution_count": 36,
     "metadata": {},
     "output_type": "execute_result"
    }
   ],
   "source": [
    "df2.head()"
   ]
  },
  {
   "cell_type": "code",
   "execution_count": 37,
   "id": "4d096090",
   "metadata": {},
   "outputs": [
    {
     "data": {
      "text/plain": [
       "5    15\n",
       "1     8\n",
       "Name: 1.On a scale of 1-5, how much do you feel irritable if there is a delay in food or if a meal is missed?, dtype: int64"
      ]
     },
     "execution_count": 37,
     "metadata": {},
     "output_type": "execute_result"
    }
   ],
   "source": [
    "df2['1.On a scale of 1-5, how much do you feel irritable if there is a delay in food or if a meal is missed?'].value_counts()"
   ]
  },
  {
   "cell_type": "code",
   "execution_count": 38,
   "id": "5cfb66d4",
   "metadata": {},
   "outputs": [
    {
     "data": {
      "text/plain": [
       "1    23\n",
       "Name: 2. On a scale of 1-5, how much fatigue do you feel after having your meals?, dtype: int64"
      ]
     },
     "execution_count": 38,
     "metadata": {},
     "output_type": "execute_result"
    }
   ],
   "source": [
    "df2['2. On a scale of 1-5, how much fatigue do you feel after having your meals?'].value_counts()"
   ]
  },
  {
   "cell_type": "code",
   "execution_count": 39,
   "id": "0b538cb4",
   "metadata": {},
   "outputs": [
    {
     "data": {
      "text/plain": [
       "1    16\n",
       "5     7\n",
       "Name: 3. On a scale of 1-5 how will you rate your thirst on a normal day?, dtype: int64"
      ]
     },
     "execution_count": 39,
     "metadata": {},
     "output_type": "execute_result"
    }
   ],
   "source": [
    "df2['3. On a scale of 1-5 how will you rate your thirst on a normal day?'].value_counts()"
   ]
  },
  {
   "cell_type": "code",
   "execution_count": 40,
   "id": "6bb1df41",
   "metadata": {},
   "outputs": [
    {
     "data": {
      "text/plain": [
       "1    8\n",
       "2    1\n",
       "3    9\n",
       "4    1\n",
       "5    4\n",
       "Name: 4. On a scale of 1-5 how will you rate your appetite on a normal day?, dtype: int64"
      ]
     },
     "execution_count": 40,
     "metadata": {},
     "output_type": "execute_result"
    }
   ],
   "source": [
    "df2['4. On a scale of 1-5 how will you rate your appetite on a normal day?'].value_counts().sort_index()"
   ]
  },
  {
   "cell_type": "code",
   "execution_count": 41,
   "id": "efbec962",
   "metadata": {},
   "outputs": [
    {
     "data": {
      "text/plain": [
       "1    17\n",
       "5     6\n",
       "Name: 5. On a scale of 1-5 how much do you feel sluggish or less energetic(physically) these days?, dtype: int64"
      ]
     },
     "execution_count": 41,
     "metadata": {},
     "output_type": "execute_result"
    }
   ],
   "source": [
    "df2['5. On a scale of 1-5 how much do you feel sluggish or less energetic(physically) these days?'].value_counts()"
   ]
  },
  {
   "cell_type": "code",
   "execution_count": 42,
   "id": "e3db2360",
   "metadata": {},
   "outputs": [
    {
     "data": {
      "text/plain": [
       "1    19\n",
       "5     4\n",
       "Name: 6. On a scale of 1-5, how often do you feel mentally sluggish these days?, dtype: int64"
      ]
     },
     "execution_count": 42,
     "metadata": {},
     "output_type": "execute_result"
    }
   ],
   "source": [
    "df2['6. On a scale of 1-5, how often do you feel mentally sluggish these days?'].value_counts()"
   ]
  },
  {
   "cell_type": "code",
   "execution_count": 43,
   "id": "16d3a4cf",
   "metadata": {},
   "outputs": [
    {
     "data": {
      "text/plain": [
       "1    14\n",
       "5     9\n",
       "Name: 7. On a scale of 1-5, how much do you feel difficulty in focussing or difficulty in concentrating?, dtype: int64"
      ]
     },
     "execution_count": 43,
     "metadata": {},
     "output_type": "execute_result"
    }
   ],
   "source": [
    "df2['7. On a scale of 1-5, how much do you feel difficulty in focussing or difficulty in concentrating?'].value_counts()"
   ]
  },
  {
   "cell_type": "code",
   "execution_count": 44,
   "id": "5d62d2c9",
   "metadata": {},
   "outputs": [
    {
     "data": {
      "text/plain": [
       "1    18\n",
       "2     2\n",
       "3     1\n",
       "5     2\n",
       "Name: 8. On a scale of 1-5, how much do you feel sleepy during the day?, dtype: int64"
      ]
     },
     "execution_count": 44,
     "metadata": {},
     "output_type": "execute_result"
    }
   ],
   "source": [
    "df2['8. On a scale of 1-5, how much do you feel sleepy during the day?'].value_counts().sort_index()"
   ]
  },
  {
   "cell_type": "code",
   "execution_count": 45,
   "id": "c2a317af",
   "metadata": {},
   "outputs": [
    {
     "data": {
      "text/html": [
       "<div>\n",
       "<style scoped>\n",
       "    .dataframe tbody tr th:only-of-type {\n",
       "        vertical-align: middle;\n",
       "    }\n",
       "\n",
       "    .dataframe tbody tr th {\n",
       "        vertical-align: top;\n",
       "    }\n",
       "\n",
       "    .dataframe thead th {\n",
       "        text-align: right;\n",
       "    }\n",
       "</style>\n",
       "<table border=\"1\" class=\"dataframe\">\n",
       "  <thead>\n",
       "    <tr style=\"text-align: right;\">\n",
       "      <th></th>\n",
       "      <th>1.On a scale of 1-5, how much do you feel irritable if there is a delay in food or if a meal is missed?</th>\n",
       "      <th>2. On a scale of 1-5, how much fatigue do you feel after having your meals?</th>\n",
       "      <th>3. On a scale of 1-5 how will you rate your thirst on a normal day?</th>\n",
       "      <th>4. On a scale of 1-5 how will you rate your appetite on a normal day?</th>\n",
       "      <th>5. On a scale of 1-5 how much do you feel sluggish or less energetic(physically) these days?</th>\n",
       "      <th>6. On a scale of 1-5, how often do you feel mentally sluggish these days?</th>\n",
       "      <th>7. On a scale of 1-5, how much do you feel difficulty in focussing or difficulty in concentrating?</th>\n",
       "      <th>8. On a scale of 1-5, how much do you feel sleepy during the day?</th>\n",
       "    </tr>\n",
       "  </thead>\n",
       "  <tbody>\n",
       "    <tr>\n",
       "      <th>1</th>\n",
       "      <td>8.0</td>\n",
       "      <td>23.0</td>\n",
       "      <td>16.0</td>\n",
       "      <td>8</td>\n",
       "      <td>17.0</td>\n",
       "      <td>19.0</td>\n",
       "      <td>14.0</td>\n",
       "      <td>18.0</td>\n",
       "    </tr>\n",
       "    <tr>\n",
       "      <th>2</th>\n",
       "      <td>NaN</td>\n",
       "      <td>NaN</td>\n",
       "      <td>NaN</td>\n",
       "      <td>1</td>\n",
       "      <td>NaN</td>\n",
       "      <td>NaN</td>\n",
       "      <td>NaN</td>\n",
       "      <td>2.0</td>\n",
       "    </tr>\n",
       "    <tr>\n",
       "      <th>3</th>\n",
       "      <td>NaN</td>\n",
       "      <td>NaN</td>\n",
       "      <td>NaN</td>\n",
       "      <td>9</td>\n",
       "      <td>NaN</td>\n",
       "      <td>NaN</td>\n",
       "      <td>NaN</td>\n",
       "      <td>1.0</td>\n",
       "    </tr>\n",
       "    <tr>\n",
       "      <th>4</th>\n",
       "      <td>NaN</td>\n",
       "      <td>NaN</td>\n",
       "      <td>NaN</td>\n",
       "      <td>1</td>\n",
       "      <td>NaN</td>\n",
       "      <td>NaN</td>\n",
       "      <td>NaN</td>\n",
       "      <td>NaN</td>\n",
       "    </tr>\n",
       "    <tr>\n",
       "      <th>5</th>\n",
       "      <td>15.0</td>\n",
       "      <td>NaN</td>\n",
       "      <td>7.0</td>\n",
       "      <td>4</td>\n",
       "      <td>6.0</td>\n",
       "      <td>4.0</td>\n",
       "      <td>9.0</td>\n",
       "      <td>2.0</td>\n",
       "    </tr>\n",
       "  </tbody>\n",
       "</table>\n",
       "</div>"
      ],
      "text/plain": [
       "   1.On a scale of 1-5, how much do you feel irritable if there is a delay in food or if a meal is missed?  \\\n",
       "1                                                8.0                                                         \n",
       "2                                                NaN                                                         \n",
       "3                                                NaN                                                         \n",
       "4                                                NaN                                                         \n",
       "5                                               15.0                                                         \n",
       "\n",
       "   2. On a scale of 1-5, how much fatigue do you feel after having your meals?  \\\n",
       "1                                               23.0                             \n",
       "2                                                NaN                             \n",
       "3                                                NaN                             \n",
       "4                                                NaN                             \n",
       "5                                                NaN                             \n",
       "\n",
       "   3. On a scale of 1-5 how will you rate your thirst on a normal day?  \\\n",
       "1                                               16.0                     \n",
       "2                                                NaN                     \n",
       "3                                                NaN                     \n",
       "4                                                NaN                     \n",
       "5                                                7.0                     \n",
       "\n",
       "   4. On a scale of 1-5 how will you rate your appetite on a normal day?  \\\n",
       "1                                                  8                       \n",
       "2                                                  1                       \n",
       "3                                                  9                       \n",
       "4                                                  1                       \n",
       "5                                                  4                       \n",
       "\n",
       "   5. On a scale of 1-5 how much do you feel sluggish or less energetic(physically) these days?  \\\n",
       "1                                               17.0                                              \n",
       "2                                                NaN                                              \n",
       "3                                                NaN                                              \n",
       "4                                                NaN                                              \n",
       "5                                                6.0                                              \n",
       "\n",
       "   6. On a scale of 1-5, how often do you feel mentally sluggish these days?  \\\n",
       "1                                               19.0                           \n",
       "2                                                NaN                           \n",
       "3                                                NaN                           \n",
       "4                                                NaN                           \n",
       "5                                                4.0                           \n",
       "\n",
       "   7. On a scale of 1-5, how much do you feel difficulty in focussing or difficulty in concentrating?  \\\n",
       "1                                               14.0                                                    \n",
       "2                                                NaN                                                    \n",
       "3                                                NaN                                                    \n",
       "4                                                NaN                                                    \n",
       "5                                                9.0                                                    \n",
       "\n",
       "   8. On a scale of 1-5, how much do you feel sleepy during the day?  \n",
       "1                                               18.0                  \n",
       "2                                                2.0                  \n",
       "3                                                1.0                  \n",
       "4                                                NaN                  \n",
       "5                                                2.0                  "
      ]
     },
     "execution_count": 45,
     "metadata": {},
     "output_type": "execute_result"
    }
   ],
   "source": [
    "# counting the answers of individuals by grouping them on scale value\n",
    "df2.apply(pd.Series.value_counts)"
   ]
  },
  {
   "cell_type": "code",
   "execution_count": 46,
   "id": "64c009a1",
   "metadata": {},
   "outputs": [
    {
     "data": {
      "image/png": "[encoded data removed]",
      "text/plain": [
       "<Figure size 1080x576 with 1 Axes>"
      ]
     },
     "metadata": {
      "needs_background": "light"
     },
     "output_type": "display_data"
    }
   ],
   "source": [
    "df2.apply(pd.Series.value_counts).plot(kind='bar',figsize=(15,8))\n",
    "plt.legend(loc='center left', bbox_to_anchor=(1,0.5),fancybox=True, shadow=True, ncol=1)\n",
    "plt.xlabel('scale of 1-5')\n",
    "plt.ylabel('number of persons')\n",
    "plt.title('represents the value chosen by individuals ')\n",
    "plt.show()"
   ]
  },
  {
   "cell_type": "markdown",
   "id": "7a98e0a1",
   "metadata": {},
   "source": [
    "  "
   ]
  },
  {
   "cell_type": "markdown",
   "id": "1585cca8",
   "metadata": {},
   "source": [
    "### Mental Health Assessment"
   ]
  },
  {
   "cell_type": "code",
   "execution_count": 47,
   "id": "7028822c",
   "metadata": {},
   "outputs": [],
   "source": [
    "df3=pd.read_excel('assignment.xlsx',sheet_name='Sheet4')"
   ]
  },
  {
   "cell_type": "code",
   "execution_count": 48,
   "id": "07883a08",
   "metadata": {},
   "outputs": [],
   "source": [
    "df3=df3.set_index('ID')"
   ]
  },
  {
   "cell_type": "code",
   "execution_count": 49,
   "id": "d9188836",
   "metadata": {},
   "outputs": [
    {
     "data": {
      "text/html": [
       "<div>\n",
       "<style scoped>\n",
       "    .dataframe tbody tr th:only-of-type {\n",
       "        vertical-align: middle;\n",
       "    }\n",
       "\n",
       "    .dataframe tbody tr th {\n",
       "        vertical-align: top;\n",
       "    }\n",
       "\n",
       "    .dataframe thead th {\n",
       "        text-align: right;\n",
       "    }\n",
       "</style>\n",
       "<table border=\"1\" class=\"dataframe\">\n",
       "  <thead>\n",
       "    <tr style=\"text-align: right;\">\n",
       "      <th></th>\n",
       "      <th>1. How often do you skip your meals?</th>\n",
       "      <th>2. How often do you feel sleeplessness at night</th>\n",
       "      <th>3. How much time do you sleep in a day</th>\n",
       "      <th>4. How often do you take fried foods/junk foods?</th>\n",
       "      <th>5. How often do you experience mood swings?</th>\n",
       "      <th>6. How often do you feel agitated or easily upset or nervous?</th>\n",
       "      <th>7. How will you describe your ‘sex drive’ (Age limited)</th>\n",
       "      <th>8. How often do you exercise?</th>\n",
       "      <th>9. How will you describe your skin type?</th>\n",
       "    </tr>\n",
       "    <tr>\n",
       "      <th>ID</th>\n",
       "      <th></th>\n",
       "      <th></th>\n",
       "      <th></th>\n",
       "      <th></th>\n",
       "      <th></th>\n",
       "      <th></th>\n",
       "      <th></th>\n",
       "      <th></th>\n",
       "      <th></th>\n",
       "    </tr>\n",
       "  </thead>\n",
       "  <tbody>\n",
       "    <tr>\n",
       "      <th>32</th>\n",
       "      <td>not at all</td>\n",
       "      <td>not at all</td>\n",
       "      <td>d. more than 8 hours</td>\n",
       "      <td>not at all</td>\n",
       "      <td>not at all</td>\n",
       "      <td>not at all</td>\n",
       "      <td>NaN</td>\n",
       "      <td>not at all</td>\n",
       "      <td>normal</td>\n",
       "    </tr>\n",
       "    <tr>\n",
       "      <th>66</th>\n",
       "      <td>not at all</td>\n",
       "      <td>not at all</td>\n",
       "      <td>d. more than 8 hours</td>\n",
       "      <td>frequently</td>\n",
       "      <td>not at all</td>\n",
       "      <td>not at all</td>\n",
       "      <td>NaN</td>\n",
       "      <td>more than 5 hours a week</td>\n",
       "      <td>normal</td>\n",
       "    </tr>\n",
       "    <tr>\n",
       "      <th>109</th>\n",
       "      <td>frequently</td>\n",
       "      <td>not at all</td>\n",
       "      <td>c. 6-8 hours</td>\n",
       "      <td>frequently</td>\n",
       "      <td>not at all</td>\n",
       "      <td>frequently</td>\n",
       "      <td>NaN</td>\n",
       "      <td>not at all</td>\n",
       "      <td>NaN</td>\n",
       "    </tr>\n",
       "    <tr>\n",
       "      <th>151</th>\n",
       "      <td>frequently</td>\n",
       "      <td>frequently</td>\n",
       "      <td>a. less than 5 hours</td>\n",
       "      <td>frequently</td>\n",
       "      <td>not at all</td>\n",
       "      <td>not at all</td>\n",
       "      <td>NaN</td>\n",
       "      <td>not at all</td>\n",
       "      <td>NaN</td>\n",
       "    </tr>\n",
       "    <tr>\n",
       "      <th>164</th>\n",
       "      <td>not at all</td>\n",
       "      <td>frequently</td>\n",
       "      <td>a. less than 5 hours</td>\n",
       "      <td>not at all</td>\n",
       "      <td>frequently</td>\n",
       "      <td>frequently</td>\n",
       "      <td>i feel i have normal sex drive</td>\n",
       "      <td>not at all</td>\n",
       "      <td>dry</td>\n",
       "    </tr>\n",
       "  </tbody>\n",
       "</table>\n",
       "</div>"
      ],
      "text/plain": [
       "    1. How often do you skip your meals?  \\\n",
       "ID                                         \n",
       "32                            not at all   \n",
       "66                            not at all   \n",
       "109                           frequently   \n",
       "151                           frequently   \n",
       "164                           not at all   \n",
       "\n",
       "    2. How often do you feel sleeplessness at night  \\\n",
       "ID                                                    \n",
       "32                                       not at all   \n",
       "66                                       not at all   \n",
       "109                                      not at all   \n",
       "151                                      frequently   \n",
       "164                                      frequently   \n",
       "\n",
       "    3. How much time do you sleep in a day  \\\n",
       "ID                                           \n",
       "32                    d. more than 8 hours   \n",
       "66                    d. more than 8 hours   \n",
       "109                           c. 6-8 hours   \n",
       "151                   a. less than 5 hours   \n",
       "164                   a. less than 5 hours   \n",
       "\n",
       "    4. How often do you take fried foods/junk foods?  \\\n",
       "ID                                                     \n",
       "32                                        not at all   \n",
       "66                                        frequently   \n",
       "109                                       frequently   \n",
       "151                                       frequently   \n",
       "164                                       not at all   \n",
       "\n",
       "    5. How often do you experience mood swings?  \\\n",
       "ID                                                \n",
       "32                                   not at all   \n",
       "66                                   not at all   \n",
       "109                                  not at all   \n",
       "151                                  not at all   \n",
       "164                                  frequently   \n",
       "\n",
       "    6. How often do you feel agitated or easily upset or nervous?  \\\n",
       "ID                                                                  \n",
       "32                                          not at all              \n",
       "66                                          not at all              \n",
       "109                                         frequently              \n",
       "151                                         not at all              \n",
       "164                                         frequently              \n",
       "\n",
       "    7. How will you describe your ‘sex drive’ (Age limited)  \\\n",
       "ID                                                            \n",
       "32                                                 NaN        \n",
       "66                                                 NaN        \n",
       "109                                                NaN        \n",
       "151                                                NaN        \n",
       "164                     i feel i have normal sex drive        \n",
       "\n",
       "    8. How often do you exercise? 9. How will you describe your skin type?  \n",
       "ID                                                                          \n",
       "32                     not at all                                   normal  \n",
       "66       more than 5 hours a week                                   normal  \n",
       "109                    not at all                                      NaN  \n",
       "151                    not at all                                      NaN  \n",
       "164                    not at all                                      dry  "
      ]
     },
     "execution_count": 49,
     "metadata": {},
     "output_type": "execute_result"
    }
   ],
   "source": [
    "df3.head()"
   ]
  },
  {
   "cell_type": "code",
   "execution_count": 50,
   "id": "20324247",
   "metadata": {},
   "outputs": [
    {
     "data": {
      "text/plain": [
       "<AxesSubplot:xlabel='count', ylabel='3. How much time do you sleep in a day'>"
      ]
     },
     "execution_count": 50,
     "metadata": {},
     "output_type": "execute_result"
    },
    {
     "data": {
      "image/png": "[encoded data removed]",
      "text/plain": [
       "<Figure size 432x288 with 1 Axes>"
      ]
     },
     "metadata": {
      "needs_background": "light"
     },
     "output_type": "display_data"
    }
   ],
   "source": [
    "# How much time individuals sleep in a day\n",
    "sns.countplot(y='3. How much time do you sleep in a day',data=df3)"
   ]
  },
  {
   "cell_type": "code",
   "execution_count": 51,
   "id": "1b728e23",
   "metadata": {},
   "outputs": [
    {
     "data": {
      "text/plain": [
       "<AxesSubplot:xlabel='count', ylabel='8. How often do you exercise?'>"
      ]
     },
     "execution_count": 51,
     "metadata": {},
     "output_type": "execute_result"
    },
    {
     "data": {
      "image/png": "[encoded data removed]",
      "text/plain": [
       "<Figure size 432x288 with 1 Axes>"
      ]
     },
     "metadata": {
      "needs_background": "light"
     },
     "output_type": "display_data"
    }
   ],
   "source": [
    "sns.countplot(y='8. How often do you exercise?',data=df3)"
   ]
  },
  {
   "cell_type": "code",
   "execution_count": 52,
   "id": "711347d5",
   "metadata": {},
   "outputs": [
    {
     "data": {
      "text/plain": [
       "<AxesSubplot:xlabel='count', ylabel='9. How will you describe your skin type?'>"
      ]
     },
     "execution_count": 52,
     "metadata": {},
     "output_type": "execute_result"
    },
    {
     "data": {
      "image/png": "[encoded data removed]",
      "text/plain": [
       "<Figure size 432x288 with 1 Axes>"
      ]
     },
     "metadata": {
      "needs_background": "light"
     },
     "output_type": "display_data"
    }
   ],
   "source": [
    "sns.countplot(y='9. How will you describe your skin type?',data=df3)"
   ]
  },
  {
   "cell_type": "code",
   "execution_count": 53,
   "id": "e26fee5a",
   "metadata": {},
   "outputs": [
    {
     "data": {
      "image/png": "[encoded data removed]",
      "text/plain": [
       "<Figure size 432x288 with 1 Axes>"
      ]
     },
     "metadata": {},
     "output_type": "display_data"
    }
   ],
   "source": [
    "q1=df3['1. How often do you skip your meals?'].value_counts()\n",
    "plt.pie(q1,labels=('frequently','not at all'),autopct='%1.2f%%')\n",
    "plt.title('How often do you skip your meals?')\n",
    "plt.show()"
   ]
  },
  {
   "cell_type": "code",
   "execution_count": 54,
   "id": "773ec7b3",
   "metadata": {},
   "outputs": [
    {
     "data": {
      "image/png": "[encoded data removed]",
      "text/plain": [
       "<Figure size 432x288 with 1 Axes>"
      ]
     },
     "metadata": {},
     "output_type": "display_data"
    }
   ],
   "source": [
    "q2=df3['2. How often do you feel sleeplessness at night'].value_counts()\n",
    "plt.pie(q2,labels=('frequently','not at all'),autopct='%1.2f%%')\n",
    "plt.title('How often do you feel sleeplessness at night?')\n",
    "plt.show()"
   ]
  },
  {
   "cell_type": "code",
   "execution_count": 55,
   "id": "65438c00",
   "metadata": {},
   "outputs": [
    {
     "data": {
      "image/png": "[encoded data removed]",
      "text/plain": [
       "<Figure size 432x288 with 1 Axes>"
      ]
     },
     "metadata": {},
     "output_type": "display_data"
    }
   ],
   "source": [
    "q4=df3['4. How often do you take fried foods/junk foods?'].value_counts()\n",
    "plt.pie(q4,labels=('frequently','not at all','all days of the week'),autopct='%1.2f%%')\n",
    "plt.title('How often do you take fried foods/junk foods?')\n",
    "plt.show()"
   ]
  },
  {
   "cell_type": "code",
   "execution_count": 56,
   "id": "e777b96c",
   "metadata": {},
   "outputs": [
    {
     "data": {
      "image/png": "[encoded data removed]",
      "text/plain": [
       "<Figure size 432x288 with 1 Axes>"
      ]
     },
     "metadata": {},
     "output_type": "display_data"
    }
   ],
   "source": [
    "q5=df3['5. How often do you experience mood swings?'].value_counts()\n",
    "plt.pie(q5,labels=('frequently','not at all'),autopct='%1.2f%%')\n",
    "plt.title('How often do you experience mood swings?')\n",
    "plt.show()"
   ]
  },
  {
   "cell_type": "code",
   "execution_count": 57,
   "id": "c6dba9ef",
   "metadata": {},
   "outputs": [
    {
     "data": {
      "image/png": "[encoded data removed]",
      "text/plain": [
       "<Figure size 432x288 with 1 Axes>"
      ]
     },
     "metadata": {},
     "output_type": "display_data"
    }
   ],
   "source": [
    "q6=df3['6. How often do you feel agitated or easily upset or nervous?'].value_counts()\n",
    "plt.pie(q6,labels=('frequently','not at all','all days of the week'),autopct='%1.2f%%')\n",
    "plt.title('How often do you feel agitated or easily upset or nervous?')\n",
    "plt.show()"
   ]
  },
  {
   "cell_type": "code",
   "execution_count": 58,
   "id": "a3d7ce86",
   "metadata": {},
   "outputs": [
    {
     "data": {
      "text/plain": [
       "i feel i have normal sex drive    13\n",
       "i have increased sex drive         1\n",
       "no sex drive these days            1\n",
       "Name: 7. How will you describe your ‘sex drive’ (Age limited), dtype: int64"
      ]
     },
     "execution_count": 58,
     "metadata": {},
     "output_type": "execute_result"
    }
   ],
   "source": [
    "df3['7. How will you describe your ‘sex drive’ (Age limited)'].value_counts()"
   ]
  },
  {
   "cell_type": "markdown",
   "id": "ecedefd7",
   "metadata": {},
   "source": [
    "  "
   ]
  },
  {
   "cell_type": "markdown",
   "id": "ef09d1a2",
   "metadata": {},
   "source": [
    "### Other Assessments"
   ]
  },
  {
   "cell_type": "code",
   "execution_count": 59,
   "id": "4847053b",
   "metadata": {},
   "outputs": [],
   "source": [
    "df4=pd.read_excel('assignment.xlsx',sheet_name='Sheet5')"
   ]
  },
  {
   "cell_type": "code",
   "execution_count": 60,
   "id": "d948ae75",
   "metadata": {},
   "outputs": [],
   "source": [
    "df4=df4.set_index('ID')"
   ]
  },
  {
   "cell_type": "code",
   "execution_count": 61,
   "id": "5d6fd9b6",
   "metadata": {},
   "outputs": [
    {
     "data": {
      "text/html": [
       "<div>\n",
       "<style scoped>\n",
       "    .dataframe tbody tr th:only-of-type {\n",
       "        vertical-align: middle;\n",
       "    }\n",
       "\n",
       "    .dataframe tbody tr th {\n",
       "        vertical-align: top;\n",
       "    }\n",
       "\n",
       "    .dataframe thead th {\n",
       "        text-align: right;\n",
       "    }\n",
       "</style>\n",
       "<table border=\"1\" class=\"dataframe\">\n",
       "  <thead>\n",
       "    <tr style=\"text-align: right;\">\n",
       "      <th></th>\n",
       "      <th>1. Do you feel trembling or palpitation, recurrently? Yes/No</th>\n",
       "      <th>2. Do you have any variation in blood pressure? High BP/Low BP- (if the client has answered the qn no 21 in ‘Profile’, this question can be made hidden.)</th>\n",
       "      <th>3. Is your waist circumference equal or larger than hip circumference? Yes/No</th>\n",
       "      <th>4. Are you prone to fat deposition in the abdominal area? Yes/No</th>\n",
       "      <th>5. Are you under a high amount of stress? Yes/No</th>\n",
       "      <th>6. Do you experience any changes in your body weight, when you are under stress for a certain period? Yes/No → Weight Gain/Weight Los</th>\n",
       "      <th>7. Are you gaining weight even with a low calorie diet? Yes/No</th>\n",
       "      <th>8. Do you have difficulty in bowel movements/constipation? Yes/No</th>\n",
       "      <th>9. Do you have excessive hair fall, these days? Yes/No</th>\n",
       "      <th>10. Do you sweat too much while sleeping ? Yes/No</th>\n",
       "      <th>...</th>\n",
       "      <th>15. Do you sweat/perspire excessively, with little or no activity? Yes/No</th>\n",
       "      <th>16. Do you experience tremor/shaking while your legs or hands are at rest ? Yes/No</th>\n",
       "      <th>17. Do you feel any giddiness on standing for a long time? Yes/No</th>\n",
       "      <th>18. Do you feel your memory is poor or are you forgetful? Yes/No</th>\n",
       "      <th>19. Do you feel difficulty in spelling correctly, familiar words? Yes/No</th>\n",
       "      <th>20. Has there any change in vision (eye sight) recently ? Yes/No</th>\n",
       "      <th>21. Is there any difficulty in making decisions or co-ordinating ?</th>\n",
       "      <th>22. Do you feel depressed or lack motivation?</th>\n",
       "      <th>23. Are you more emotional now-a days, than in the past?</th>\n",
       "      <th>24. Does your frequency of urination increased these days?</th>\n",
       "    </tr>\n",
       "    <tr>\n",
       "      <th>ID</th>\n",
       "      <th></th>\n",
       "      <th></th>\n",
       "      <th></th>\n",
       "      <th></th>\n",
       "      <th></th>\n",
       "      <th></th>\n",
       "      <th></th>\n",
       "      <th></th>\n",
       "      <th></th>\n",
       "      <th></th>\n",
       "      <th></th>\n",
       "      <th></th>\n",
       "      <th></th>\n",
       "      <th></th>\n",
       "      <th></th>\n",
       "      <th></th>\n",
       "      <th></th>\n",
       "      <th></th>\n",
       "      <th></th>\n",
       "      <th></th>\n",
       "      <th></th>\n",
       "    </tr>\n",
       "  </thead>\n",
       "  <tbody>\n",
       "    <tr>\n",
       "      <th>32</th>\n",
       "      <td>no</td>\n",
       "      <td>yes</td>\n",
       "      <td>no</td>\n",
       "      <td>no</td>\n",
       "      <td>no</td>\n",
       "      <td>no</td>\n",
       "      <td>no</td>\n",
       "      <td>no</td>\n",
       "      <td>no</td>\n",
       "      <td>no</td>\n",
       "      <td>...</td>\n",
       "      <td>no</td>\n",
       "      <td>no</td>\n",
       "      <td>no</td>\n",
       "      <td>no</td>\n",
       "      <td>no</td>\n",
       "      <td>no</td>\n",
       "      <td>no</td>\n",
       "      <td>no</td>\n",
       "      <td>no</td>\n",
       "      <td>no</td>\n",
       "    </tr>\n",
       "    <tr>\n",
       "      <th>66</th>\n",
       "      <td>no</td>\n",
       "      <td>yes</td>\n",
       "      <td>yes</td>\n",
       "      <td>yes</td>\n",
       "      <td>yes</td>\n",
       "      <td>yes</td>\n",
       "      <td>yes</td>\n",
       "      <td>yes</td>\n",
       "      <td>yes</td>\n",
       "      <td>no</td>\n",
       "      <td>...</td>\n",
       "      <td>no</td>\n",
       "      <td>no</td>\n",
       "      <td>no</td>\n",
       "      <td>no</td>\n",
       "      <td>no</td>\n",
       "      <td>no</td>\n",
       "      <td>yes</td>\n",
       "      <td>no</td>\n",
       "      <td>no</td>\n",
       "      <td>no</td>\n",
       "    </tr>\n",
       "    <tr>\n",
       "      <th>109</th>\n",
       "      <td>no</td>\n",
       "      <td>yes</td>\n",
       "      <td>yes</td>\n",
       "      <td>yes</td>\n",
       "      <td>no</td>\n",
       "      <td>no</td>\n",
       "      <td>no</td>\n",
       "      <td>no</td>\n",
       "      <td>no</td>\n",
       "      <td>yes</td>\n",
       "      <td>...</td>\n",
       "      <td>yes</td>\n",
       "      <td>no</td>\n",
       "      <td>no</td>\n",
       "      <td>yes</td>\n",
       "      <td>no</td>\n",
       "      <td>no</td>\n",
       "      <td>yes</td>\n",
       "      <td>no</td>\n",
       "      <td>yes</td>\n",
       "      <td>no</td>\n",
       "    </tr>\n",
       "    <tr>\n",
       "      <th>151</th>\n",
       "      <td>no</td>\n",
       "      <td>yes</td>\n",
       "      <td>no</td>\n",
       "      <td>no</td>\n",
       "      <td>no</td>\n",
       "      <td>no</td>\n",
       "      <td>yes</td>\n",
       "      <td>yes</td>\n",
       "      <td>no</td>\n",
       "      <td>no</td>\n",
       "      <td>...</td>\n",
       "      <td>no</td>\n",
       "      <td>no</td>\n",
       "      <td>no</td>\n",
       "      <td>no</td>\n",
       "      <td>no</td>\n",
       "      <td>no</td>\n",
       "      <td>yes</td>\n",
       "      <td>no</td>\n",
       "      <td>no</td>\n",
       "      <td>no</td>\n",
       "    </tr>\n",
       "    <tr>\n",
       "      <th>164</th>\n",
       "      <td>yes</td>\n",
       "      <td>yes</td>\n",
       "      <td>no</td>\n",
       "      <td>no</td>\n",
       "      <td>no</td>\n",
       "      <td>no</td>\n",
       "      <td>no</td>\n",
       "      <td>no</td>\n",
       "      <td>yes</td>\n",
       "      <td>yes</td>\n",
       "      <td>...</td>\n",
       "      <td>yes</td>\n",
       "      <td>no</td>\n",
       "      <td>yes</td>\n",
       "      <td>no</td>\n",
       "      <td>no</td>\n",
       "      <td>no</td>\n",
       "      <td>yes</td>\n",
       "      <td>yes</td>\n",
       "      <td>yes</td>\n",
       "      <td>yes</td>\n",
       "    </tr>\n",
       "  </tbody>\n",
       "</table>\n",
       "<p>5 rows × 24 columns</p>\n",
       "</div>"
      ],
      "text/plain": [
       "    1. Do you feel trembling or palpitation, recurrently? Yes/No  \\\n",
       "ID                                                                 \n",
       "32                                                  no             \n",
       "66                                                  no             \n",
       "109                                                 no             \n",
       "151                                                 no             \n",
       "164                                                yes             \n",
       "\n",
       "    2. Do you have any variation in blood pressure? High BP/Low BP- (if the client has answered the qn no 21 in ‘Profile’, this question can be made hidden.)  \\\n",
       "ID                                                                                                                                                              \n",
       "32                                                 yes                                                                                                          \n",
       "66                                                 yes                                                                                                          \n",
       "109                                                yes                                                                                                          \n",
       "151                                                yes                                                                                                          \n",
       "164                                                yes                                                                                                          \n",
       "\n",
       "    3. Is your waist circumference equal or larger than hip circumference? Yes/No  \\\n",
       "ID                                                                                  \n",
       "32                                                  no                              \n",
       "66                                                 yes                              \n",
       "109                                                yes                              \n",
       "151                                                 no                              \n",
       "164                                                 no                              \n",
       "\n",
       "    4. Are you prone to fat deposition in the abdominal area? Yes/No  \\\n",
       "ID                                                                     \n",
       "32                                                  no                 \n",
       "66                                                 yes                 \n",
       "109                                                yes                 \n",
       "151                                                 no                 \n",
       "164                                                 no                 \n",
       "\n",
       "    5. Are you under a high amount of stress? Yes/No  \\\n",
       "ID                                                     \n",
       "32                                                no   \n",
       "66                                               yes   \n",
       "109                                               no   \n",
       "151                                               no   \n",
       "164                                               no   \n",
       "\n",
       "    6. Do you experience any changes in your body weight, when you are under stress for a certain period? Yes/No → Weight Gain/Weight Los  \\\n",
       "ID                                                                                                                                          \n",
       "32                                                  no                                                                                      \n",
       "66                                                 yes                                                                                      \n",
       "109                                                 no                                                                                      \n",
       "151                                                 no                                                                                      \n",
       "164                                                 no                                                                                      \n",
       "\n",
       "    7. Are you gaining weight even with a low calorie diet? Yes/No  \\\n",
       "ID                                                                   \n",
       "32                                                  no               \n",
       "66                                                 yes               \n",
       "109                                                 no               \n",
       "151                                                yes               \n",
       "164                                                 no               \n",
       "\n",
       "    8. Do you have difficulty in bowel movements/constipation? Yes/No  \\\n",
       "ID                                                                      \n",
       "32                                                  no                  \n",
       "66                                                 yes                  \n",
       "109                                                 no                  \n",
       "151                                                yes                  \n",
       "164                                                 no                  \n",
       "\n",
       "    9. Do you have excessive hair fall, these days? Yes/No  \\\n",
       "ID                                                           \n",
       "32                                                  no       \n",
       "66                                                 yes       \n",
       "109                                                 no       \n",
       "151                                                 no       \n",
       "164                                                yes       \n",
       "\n",
       "    10. Do you sweat too much while sleeping ? Yes/No  ...  \\\n",
       "ID                                                     ...   \n",
       "32                                                 no  ...   \n",
       "66                                                 no  ...   \n",
       "109                                               yes  ...   \n",
       "151                                                no  ...   \n",
       "164                                               yes  ...   \n",
       "\n",
       "    15. Do you sweat/perspire excessively, with little or no activity? Yes/No  \\\n",
       "ID                                                                              \n",
       "32                                                  no                          \n",
       "66                                                  no                          \n",
       "109                                                yes                          \n",
       "151                                                 no                          \n",
       "164                                                yes                          \n",
       "\n",
       "    16. Do you experience tremor/shaking while your legs or hands are at rest ? Yes/No  \\\n",
       "ID                                                                                       \n",
       "32                                                  no                                   \n",
       "66                                                  no                                   \n",
       "109                                                 no                                   \n",
       "151                                                 no                                   \n",
       "164                                                 no                                   \n",
       "\n",
       "    17. Do you feel any giddiness on standing for a long time? Yes/No  \\\n",
       "ID                                                                      \n",
       "32                                                  no                  \n",
       "66                                                  no                  \n",
       "109                                                 no                  \n",
       "151                                                 no                  \n",
       "164                                                yes                  \n",
       "\n",
       "    18. Do you feel your memory is poor or are you forgetful? Yes/No  \\\n",
       "ID                                                                     \n",
       "32                                                  no                 \n",
       "66                                                  no                 \n",
       "109                                                yes                 \n",
       "151                                                 no                 \n",
       "164                                                 no                 \n",
       "\n",
       "    19. Do you feel difficulty in spelling correctly, familiar words? Yes/No  \\\n",
       "ID                                                                             \n",
       "32                                                  no                         \n",
       "66                                                  no                         \n",
       "109                                                 no                         \n",
       "151                                                 no                         \n",
       "164                                                 no                         \n",
       "\n",
       "    20. Has there any change in vision (eye sight) recently ? Yes/No  \\\n",
       "ID                                                                     \n",
       "32                                                  no                 \n",
       "66                                                  no                 \n",
       "109                                                 no                 \n",
       "151                                                 no                 \n",
       "164                                                 no                 \n",
       "\n",
       "    21. Is there any difficulty in making decisions or co-ordinating ?  \\\n",
       "ID                                                                       \n",
       "32                                                  no                   \n",
       "66                                                 yes                   \n",
       "109                                                yes                   \n",
       "151                                                yes                   \n",
       "164                                                yes                   \n",
       "\n",
       "    22. Do you feel depressed or lack motivation?  \\\n",
       "ID                                                  \n",
       "32                                             no   \n",
       "66                                             no   \n",
       "109                                            no   \n",
       "151                                            no   \n",
       "164                                           yes   \n",
       "\n",
       "    23. Are you more emotional now-a days, than in the past?  \\\n",
       "ID                                                             \n",
       "32                                                  no         \n",
       "66                                                  no         \n",
       "109                                                yes         \n",
       "151                                                 no         \n",
       "164                                                yes         \n",
       "\n",
       "    24. Does your frequency of urination increased these days?  \n",
       "ID                                                              \n",
       "32                                                  no          \n",
       "66                                                  no          \n",
       "109                                                 no          \n",
       "151                                                 no          \n",
       "164                                                yes          \n",
       "\n",
       "[5 rows x 24 columns]"
      ]
     },
     "execution_count": 61,
     "metadata": {},
     "output_type": "execute_result"
    }
   ],
   "source": [
    "df4.head()"
   ]
  },
  {
   "cell_type": "code",
   "execution_count": 62,
   "id": "0f0a869b",
   "metadata": {},
   "outputs": [
    {
     "data": {
      "image/png": "[encoded data removed]",
      "text/plain": [
       "<Figure size 432x288 with 1 Axes>"
      ]
     },
     "metadata": {},
     "output_type": "display_data"
    }
   ],
   "source": [
    "a1=df4['1. Do you feel trembling or palpitation, recurrently? Yes/No'].value_counts()\n",
    "plt.pie(a1,labels=('yes','no'),autopct='%1.2f%%')\n",
    "plt.title('Do you feel trembling or palpitation, recurrently?')\n",
    "plt.show()"
   ]
  },
  {
   "cell_type": "code",
   "execution_count": 63,
   "id": "248223df",
   "metadata": {},
   "outputs": [
    {
     "data": {
      "text/plain": [
       "yes    23\n",
       "Name: 2. Do you have any variation in blood pressure? High BP/Low BP- (if the client has answered the qn no 21 in ‘Profile’, this question can be made hidden.), dtype: int64"
      ]
     },
     "execution_count": 63,
     "metadata": {},
     "output_type": "execute_result"
    }
   ],
   "source": [
    "df4['2. Do you have any variation in blood pressure? High BP/Low BP- (if the client has answered the qn no 21 in ‘Profile’, this question can be made hidden.)'].value_counts()\n"
   ]
  },
  {
   "cell_type": "code",
   "execution_count": 64,
   "id": "4b6531f2",
   "metadata": {},
   "outputs": [
    {
     "data": {
      "image/png": "[encoded data removed]",
      "text/plain": [
       "<Figure size 432x288 with 1 Axes>"
      ]
     },
     "metadata": {},
     "output_type": "display_data"
    }
   ],
   "source": [
    "a3=df4['3. Is your waist circumference equal or larger than hip circumference? Yes/No'].value_counts()\n",
    "plt.pie(a3,labels=('yes','no'),autopct='%1.2f%%')\n",
    "plt.title('Is your waist circumference equal or larger than hip circumference?')\n",
    "plt.show()"
   ]
  },
  {
   "cell_type": "code",
   "execution_count": 65,
   "id": "fea6f76a",
   "metadata": {},
   "outputs": [
    {
     "data": {
      "image/png": "[encoded data removed]",
      "text/plain": [
       "<Figure size 432x288 with 1 Axes>"
      ]
     },
     "metadata": {},
     "output_type": "display_data"
    }
   ],
   "source": [
    "a4=df4['4. Are you prone to fat deposition in the abdominal area? Yes/No'].value_counts()\n",
    "plt.pie(a4,labels=('yes','no'),autopct='%1.2f%%')\n",
    "plt.title('Are you prone to fat deposition in the abdominal area?')\n",
    "plt.show()"
   ]
  },
  {
   "cell_type": "code",
   "execution_count": 66,
   "id": "55eda1e0",
   "metadata": {},
   "outputs": [
    {
     "data": {
      "image/png": "[encoded data removed]",
      "text/plain": [
       "<Figure size 432x288 with 1 Axes>"
      ]
     },
     "metadata": {},
     "output_type": "display_data"
    }
   ],
   "source": [
    "a5=df4['5. Are you under a high amount of stress? Yes/No'].value_counts()\n",
    "plt.pie(a5,labels=('yes','no'),autopct='%1.2f%%')\n",
    "plt.title('Are you under a high amount of stress?')\n",
    "plt.show()"
   ]
  },
  {
   "cell_type": "code",
   "execution_count": 67,
   "id": "df478ae0",
   "metadata": {},
   "outputs": [
    {
     "data": {
      "image/png": "[encoded data removed]",
      "text/plain": [
       "<Figure size 432x288 with 1 Axes>"
      ]
     },
     "metadata": {},
     "output_type": "display_data"
    }
   ],
   "source": [
    "a6=df4['6. Do you experience any changes in your body weight, when you are under stress for a certain period? Yes/No → Weight Gain/Weight Los'].value_counts()\n",
    "plt.pie(a6,labels=('yes','no'),autopct='%1.2f%%')\n",
    "plt.title('Do you experience any changes in your body weight, when you are under stress for a certain period? ')\n",
    "plt.show()"
   ]
  },
  {
   "cell_type": "code",
   "execution_count": 68,
   "id": "13ae0f9a",
   "metadata": {},
   "outputs": [
    {
     "data": {
      "image/png": "[encoded data removed]",
      "text/plain": [
       "<Figure size 432x288 with 1 Axes>"
      ]
     },
     "metadata": {},
     "output_type": "display_data"
    }
   ],
   "source": [
    "a7=df4['7. Are you gaining weight even with a low calorie diet? Yes/No'].value_counts()\n",
    "plt.pie(a7,labels=('yes','no'),autopct='%1.2f%%')\n",
    "plt.title('Are you gaining weight even with a low calorie diet? ')\n",
    "plt.show()"
   ]
  },
  {
   "cell_type": "code",
   "execution_count": 69,
   "id": "a05f44f4",
   "metadata": {},
   "outputs": [
    {
     "data": {
      "image/png": "[encoded data removed]",
      "text/plain": [
       "<Figure size 432x288 with 1 Axes>"
      ]
     },
     "metadata": {},
     "output_type": "display_data"
    }
   ],
   "source": [
    "a8=df4['8. Do you have difficulty in bowel movements/constipation? Yes/No'].value_counts()\n",
    "plt.pie(a8,labels=('yes','no'),autopct='%1.2f%%')\n",
    "plt.title('Do you have difficulty in bowel movements/constipation?')\n",
    "plt.show()"
   ]
  },
  {
   "cell_type": "code",
   "execution_count": 70,
   "id": "c55bb10e",
   "metadata": {},
   "outputs": [
    {
     "data": {
      "image/png": "[encoded data removed]",
      "text/plain": [
       "<Figure size 432x288 with 1 Axes>"
      ]
     },
     "metadata": {},
     "output_type": "display_data"
    }
   ],
   "source": [
    "a9=df4['9. Do you have excessive hair fall, these days? Yes/No'].value_counts()\n",
    "plt.pie(a9,labels=('yes','no'),autopct='%1.2f%%')\n",
    "plt.title('Do you have excessive hair fall, these days? ')\n",
    "plt.show()"
   ]
  },
  {
   "cell_type": "code",
   "execution_count": 71,
   "id": "12fe00f5",
   "metadata": {},
   "outputs": [
    {
     "data": {
      "image/png": "[encoded data removed]",
      "text/plain": [
       "<Figure size 432x288 with 1 Axes>"
      ]
     },
     "metadata": {},
     "output_type": "display_data"
    }
   ],
   "source": [
    "a10=df4['10. Do you sweat too much while sleeping ? Yes/No'].value_counts()\n",
    "plt.pie(a10,labels=('yes','no'),autopct='%1.2f%%')\n",
    "plt.title('Do you sweat too much while sleeping ?')\n",
    "plt.show()"
   ]
  },
  {
   "cell_type": "code",
   "execution_count": 72,
   "id": "3d5dc6a6",
   "metadata": {},
   "outputs": [
    {
     "data": {
      "image/png": "[encoded data removed]",
      "text/plain": [
       "<Figure size 432x288 with 1 Axes>"
      ]
     },
     "metadata": {},
     "output_type": "display_data"
    }
   ],
   "source": [
    "a11=df4['11. Do you have difficulty in gaining/losing weight ? Yes/No; If yes→ for gaining/losing'].value_counts()\n",
    "plt.pie(a11,labels=('yes','no'),autopct='%1.2f%%')\n",
    "plt.title('Do you have difficulty in gaining/losing weight ? ')\n",
    "plt.show()"
   ]
  },
  {
   "cell_type": "code",
   "execution_count": 73,
   "id": "4781a60b",
   "metadata": {},
   "outputs": [
    {
     "data": {
      "text/plain": [
       "no    23\n",
       "Name: 12. Do you have difficulty in digesting fruits and vegetables; undigested food found in stools? Yes/No, dtype: int64"
      ]
     },
     "execution_count": 73,
     "metadata": {},
     "output_type": "execute_result"
    }
   ],
   "source": [
    "df4['12. Do you have difficulty in digesting fruits and vegetables; undigested food found in stools? Yes/No'].value_counts()"
   ]
  },
  {
   "cell_type": "code",
   "execution_count": 74,
   "id": "e9e2f44c",
   "metadata": {},
   "outputs": [
    {
     "data": {
      "text/plain": [
       "no    23\n",
       "Name: 13. Do you have excessive burping/ belching/ bloating? Yes/No, dtype: int64"
      ]
     },
     "execution_count": 74,
     "metadata": {},
     "output_type": "execute_result"
    }
   ],
   "source": [
    "df4['13. Do you have excessive burping/ belching/ bloating? Yes/No'].value_counts()"
   ]
  },
  {
   "cell_type": "code",
   "execution_count": 75,
   "id": "389d1109",
   "metadata": {},
   "outputs": [
    {
     "data": {
      "image/png": "[encoded data removed]",
      "text/plain": [
       "<Figure size 432x288 with 1 Axes>"
      ]
     },
     "metadata": {},
     "output_type": "display_data"
    }
   ],
   "source": [
    "a14=df4['14. Do you have difficulty in learning new things ? Yes/No'].value_counts()\n",
    "plt.pie(a14,labels=('yes','no'),autopct='%1.2f%%')\n",
    "plt.title('Do you have difficulty in learning new things ?')\n",
    "plt.show()"
   ]
  },
  {
   "cell_type": "code",
   "execution_count": 76,
   "id": "97a0e7de",
   "metadata": {},
   "outputs": [
    {
     "data": {
      "image/png": "[encoded data removed]",
      "text/plain": [
       "<Figure size 432x288 with 1 Axes>"
      ]
     },
     "metadata": {},
     "output_type": "display_data"
    }
   ],
   "source": [
    "a15=df4['15. Do you sweat/perspire excessively, with little or no activity? Yes/No'].value_counts()\n",
    "plt.pie(a15,labels=('yes','no'),autopct='%1.2f%%')\n",
    "plt.title('Do you sweat/perspire excessively, with little or no activity? ')\n",
    "plt.show()"
   ]
  },
  {
   "cell_type": "code",
   "execution_count": 77,
   "id": "081a50a1",
   "metadata": {},
   "outputs": [
    {
     "data": {
      "image/png": "[encoded data removed]",
      "text/plain": [
       "<Figure size 432x288 with 1 Axes>"
      ]
     },
     "metadata": {},
     "output_type": "display_data"
    }
   ],
   "source": [
    "a16=df4['16. Do you experience tremor/shaking while your legs or hands are at rest ? Yes/No'].value_counts()\n",
    "plt.pie(a1,labels=('yes','no'),autopct='%1.2f%%')\n",
    "plt.title('Do you experience tremor/shaking while your legs or hands are at rest ?')\n",
    "plt.show()"
   ]
  },
  {
   "cell_type": "code",
   "execution_count": 78,
   "id": "83c58f8d",
   "metadata": {},
   "outputs": [
    {
     "data": {
      "image/png": "[encoded data removed]",
      "text/plain": [
       "<Figure size 432x288 with 1 Axes>"
      ]
     },
     "metadata": {},
     "output_type": "display_data"
    }
   ],
   "source": [
    "a17=df4['17. Do you feel any giddiness on standing for a long time? Yes/No'].value_counts()\n",
    "plt.pie(a17,labels=('yes','no'),autopct='%1.2f%%')\n",
    "plt.title('Do you feel any giddiness on standing for a long time?')\n",
    "plt.show()"
   ]
  },
  {
   "cell_type": "code",
   "execution_count": 79,
   "id": "fc557107",
   "metadata": {},
   "outputs": [
    {
     "data": {
      "image/png": "[encoded data removed]",
      "text/plain": [
       "<Figure size 432x288 with 1 Axes>"
      ]
     },
     "metadata": {},
     "output_type": "display_data"
    }
   ],
   "source": [
    "a18=df4['18. Do you feel your memory is poor or are you forgetful? Yes/No'].value_counts()\n",
    "plt.pie(a18,labels=('yes','no'),autopct='%1.2f%%')\n",
    "plt.title('Do you feel your memory is poor or are you forgetful?')\n",
    "plt.show()"
   ]
  },
  {
   "cell_type": "code",
   "execution_count": 80,
   "id": "adf78c1a",
   "metadata": {},
   "outputs": [
    {
     "data": {
      "image/png": "[encoded data removed]",
      "text/plain": [
       "<Figure size 432x288 with 1 Axes>"
      ]
     },
     "metadata": {},
     "output_type": "display_data"
    }
   ],
   "source": [
    "a19=df4['19. Do you feel difficulty in spelling correctly, familiar words? Yes/No'].value_counts()\n",
    "plt.pie(a19,labels=('yes','no'),autopct='%1.2f%%')\n",
    "plt.title('Do you feel difficulty in spelling correctly, familiar words?')\n",
    "plt.show()"
   ]
  },
  {
   "cell_type": "code",
   "execution_count": 81,
   "id": "de4e84f7",
   "metadata": {},
   "outputs": [
    {
     "data": {
      "image/png": "[encoded data removed]",
      "text/plain": [
       "<Figure size 432x288 with 1 Axes>"
      ]
     },
     "metadata": {},
     "output_type": "display_data"
    }
   ],
   "source": [
    "a20=df4['20. Has there any change in vision (eye sight) recently ? Yes/No'].value_counts()\n",
    "plt.pie(a20,labels=('yes','no'),autopct='%1.2f%%')\n",
    "plt.title('Has there any change in vision (eye sight) recently ?')\n",
    "plt.show()"
   ]
  },
  {
   "cell_type": "code",
   "execution_count": 82,
   "id": "3e95d5f1",
   "metadata": {},
   "outputs": [
    {
     "data": {
      "image/png": "[encoded data removed]",
      "text/plain": [
       "<Figure size 432x288 with 1 Axes>"
      ]
     },
     "metadata": {},
     "output_type": "display_data"
    }
   ],
   "source": [
    "a21=df4['21. Is there any difficulty in making decisions or co-ordinating ?'].value_counts()\n",
    "plt.pie(a21,labels=('yes','no'),autopct='%1.2f%%')\n",
    "plt.title('Is there any difficulty in making decisions or co-ordinating ?')\n",
    "plt.show()"
   ]
  },
  {
   "cell_type": "code",
   "execution_count": 83,
   "id": "3cb9cd7e",
   "metadata": {},
   "outputs": [
    {
     "data": {
      "image/png": "[encoded data removed]",
      "text/plain": [
       "<Figure size 432x288 with 1 Axes>"
      ]
     },
     "metadata": {},
     "output_type": "display_data"
    }
   ],
   "source": [
    "a22=df4['22. Do you feel depressed or lack motivation?'].value_counts()\n",
    "plt.pie(a22,labels=('yes','no'),autopct='%1.2f%%')\n",
    "plt.title('Do you feel depressed or lack motivation?')\n",
    "plt.show()"
   ]
  },
  {
   "cell_type": "code",
   "execution_count": 84,
   "id": "901f1b99",
   "metadata": {},
   "outputs": [
    {
     "data": {
      "image/png": "[encoded data removed]",
      "text/plain": [
       "<Figure size 432x288 with 1 Axes>"
      ]
     },
     "metadata": {},
     "output_type": "display_data"
    }
   ],
   "source": [
    "a23=df4['23. Are you more emotional now-a days, than in the past?'].value_counts()\n",
    "plt.pie(a23,labels=('yes','no'),autopct='%1.2f%%')\n",
    "plt.title('Are you more emotional now-a days, than in the past?')\n",
    "plt.show()"
   ]
  },
  {
   "cell_type": "code",
   "execution_count": 85,
   "id": "e43a3bc2",
   "metadata": {},
   "outputs": [
    {
     "data": {
      "image/png": "[encoded data removed]",
      "text/plain": [
       "<Figure size 432x288 with 1 Axes>"
      ]
     },
     "metadata": {},
     "output_type": "display_data"
    }
   ],
   "source": [
    "a24=df4['24. Does your frequency of urination increased these days?'].value_counts()\n",
    "plt.pie(a24,labels=('yes','no'),autopct='%1.2f%%')\n",
    "plt.title('Does your frequency of urination increased these days?')\n",
    "plt.show()"
   ]
  },
  {
   "cell_type": "markdown",
   "id": "97a5802c",
   "metadata": {},
   "source": [
    "  "
   ]
  },
  {
   "cell_type": "markdown",
   "id": "b77ad94e",
   "metadata": {},
   "source": [
    "### Sexual health"
   ]
  },
  {
   "cell_type": "code",
   "execution_count": 86,
   "id": "5264e763",
   "metadata": {},
   "outputs": [],
   "source": [
    "df5=pd.read_excel('assignment.xlsx',sheet_name='Sheet6')"
   ]
  },
  {
   "cell_type": "code",
   "execution_count": 87,
   "id": "e8b31559",
   "metadata": {},
   "outputs": [],
   "source": [
    "df5=df5.set_index('ID')"
   ]
  },
  {
   "cell_type": "code",
   "execution_count": 88,
   "id": "d1bbe34b",
   "metadata": {},
   "outputs": [
    {
     "data": {
      "text/html": [
       "<div>\n",
       "<style scoped>\n",
       "    .dataframe tbody tr th:only-of-type {\n",
       "        vertical-align: middle;\n",
       "    }\n",
       "\n",
       "    .dataframe tbody tr th {\n",
       "        vertical-align: top;\n",
       "    }\n",
       "\n",
       "    .dataframe thead th {\n",
       "        text-align: right;\n",
       "    }\n",
       "</style>\n",
       "<table border=\"1\" class=\"dataframe\">\n",
       "  <thead>\n",
       "    <tr style=\"text-align: right;\">\n",
       "      <th></th>\n",
       "      <th>1. Do you feel any urgency in urination, these days? Yes/No</th>\n",
       "      <th>2. Do you feel any decrease in fullness of erections? Yes/No</th>\n",
       "      <th>3. Do you have any difficulty in maintaining morning erections? Yes/No</th>\n",
       "      <th>4. Do you feel any decrease in physical stamina? Yes/No</th>\n",
       "      <th>5. Do you have recurrent premature ejaculations?</th>\n",
       "      <th>A. Age of Menarche</th>\n",
       "      <th>B. Cycle length</th>\n",
       "      <th>C. Regularity</th>\n",
       "      <th>D. Days of flow</th>\n",
       "      <th>E. Quantity of bleeding- Heavy/Normal/scanty</th>\n",
       "      <th>...</th>\n",
       "      <th>4. Are you suffering from hair loss?</th>\n",
       "      <th>1. Age of Menopause</th>\n",
       "      <th>2. Do you have any bleeding after menopause? Yes/No</th>\n",
       "      <th>3. Do you have any disinterest in sex? Yes/No</th>\n",
       "      <th>4. Are you suffering from severe mood swings? Yes/No</th>\n",
       "      <th>5. Do you feel any hot flushes? Yes/No</th>\n",
       "      <th>1. Do you feel forgetfulness, these days?</th>\n",
       "      <th>2. Do you feel it is difficult to be attentive in your studies?</th>\n",
       "      <th>3. Do you feel sleepy during study time?</th>\n",
       "      <th>4. How will you describe yourself? Sluggish/Active/Hyperactive</th>\n",
       "    </tr>\n",
       "    <tr>\n",
       "      <th>ID</th>\n",
       "      <th></th>\n",
       "      <th></th>\n",
       "      <th></th>\n",
       "      <th></th>\n",
       "      <th></th>\n",
       "      <th></th>\n",
       "      <th></th>\n",
       "      <th></th>\n",
       "      <th></th>\n",
       "      <th></th>\n",
       "      <th></th>\n",
       "      <th></th>\n",
       "      <th></th>\n",
       "      <th></th>\n",
       "      <th></th>\n",
       "      <th></th>\n",
       "      <th></th>\n",
       "      <th></th>\n",
       "      <th></th>\n",
       "      <th></th>\n",
       "      <th></th>\n",
       "    </tr>\n",
       "  </thead>\n",
       "  <tbody>\n",
       "    <tr>\n",
       "      <th>32</th>\n",
       "      <td>yes</td>\n",
       "      <td>yes</td>\n",
       "      <td>yes</td>\n",
       "      <td>yes</td>\n",
       "      <td>yes</td>\n",
       "      <td>13</td>\n",
       "      <td>normal</td>\n",
       "      <td>regular</td>\n",
       "      <td>4</td>\n",
       "      <td>normal</td>\n",
       "      <td>...</td>\n",
       "      <td>no</td>\n",
       "      <td>NaN</td>\n",
       "      <td>no</td>\n",
       "      <td>no</td>\n",
       "      <td>no</td>\n",
       "      <td>yes</td>\n",
       "      <td>no</td>\n",
       "      <td>yes</td>\n",
       "      <td>no</td>\n",
       "      <td>sluggish</td>\n",
       "    </tr>\n",
       "    <tr>\n",
       "      <th>66</th>\n",
       "      <td>yes</td>\n",
       "      <td>yes</td>\n",
       "      <td>yes</td>\n",
       "      <td>yes</td>\n",
       "      <td>yes</td>\n",
       "      <td>nil</td>\n",
       "      <td>nil</td>\n",
       "      <td>regular</td>\n",
       "      <td>nil</td>\n",
       "      <td>nil</td>\n",
       "      <td>...</td>\n",
       "      <td>no</td>\n",
       "      <td>NaN</td>\n",
       "      <td>no</td>\n",
       "      <td>no</td>\n",
       "      <td>no</td>\n",
       "      <td>yes</td>\n",
       "      <td>yes</td>\n",
       "      <td>yes</td>\n",
       "      <td>no</td>\n",
       "      <td>active</td>\n",
       "    </tr>\n",
       "    <tr>\n",
       "      <th>109</th>\n",
       "      <td>yes</td>\n",
       "      <td>yes</td>\n",
       "      <td>yes</td>\n",
       "      <td>yes</td>\n",
       "      <td>yes</td>\n",
       "      <td>nil</td>\n",
       "      <td>nil</td>\n",
       "      <td>regular</td>\n",
       "      <td>nil</td>\n",
       "      <td>nil</td>\n",
       "      <td>...</td>\n",
       "      <td>yes</td>\n",
       "      <td>NaN</td>\n",
       "      <td>no</td>\n",
       "      <td>yes</td>\n",
       "      <td>no</td>\n",
       "      <td>no</td>\n",
       "      <td>yes</td>\n",
       "      <td>yes</td>\n",
       "      <td>no</td>\n",
       "      <td>active</td>\n",
       "    </tr>\n",
       "    <tr>\n",
       "      <th>151</th>\n",
       "      <td>yes</td>\n",
       "      <td>yes</td>\n",
       "      <td>yes</td>\n",
       "      <td>yes</td>\n",
       "      <td>yes</td>\n",
       "      <td>nil</td>\n",
       "      <td>nil</td>\n",
       "      <td>regular</td>\n",
       "      <td>nil</td>\n",
       "      <td>nil</td>\n",
       "      <td>...</td>\n",
       "      <td>yes</td>\n",
       "      <td>NaN</td>\n",
       "      <td>yes</td>\n",
       "      <td>yes</td>\n",
       "      <td>no</td>\n",
       "      <td>no</td>\n",
       "      <td>yes</td>\n",
       "      <td>yes</td>\n",
       "      <td>no</td>\n",
       "      <td>active</td>\n",
       "    </tr>\n",
       "    <tr>\n",
       "      <th>164</th>\n",
       "      <td>yes</td>\n",
       "      <td>yes</td>\n",
       "      <td>yes</td>\n",
       "      <td>yes</td>\n",
       "      <td>yes</td>\n",
       "      <td>nil</td>\n",
       "      <td>nil</td>\n",
       "      <td>regular</td>\n",
       "      <td>nil</td>\n",
       "      <td>nil</td>\n",
       "      <td>...</td>\n",
       "      <td>yes</td>\n",
       "      <td>NaN</td>\n",
       "      <td>yes</td>\n",
       "      <td>yes</td>\n",
       "      <td>no</td>\n",
       "      <td>no</td>\n",
       "      <td>yes</td>\n",
       "      <td>yes</td>\n",
       "      <td>no</td>\n",
       "      <td>active</td>\n",
       "    </tr>\n",
       "  </tbody>\n",
       "</table>\n",
       "<p>5 rows × 25 columns</p>\n",
       "</div>"
      ],
      "text/plain": [
       "    1. Do you feel any urgency in urination, these days? Yes/No  \\\n",
       "ID                                                                \n",
       "32                                                 yes            \n",
       "66                                                 yes            \n",
       "109                                                yes            \n",
       "151                                                yes            \n",
       "164                                                yes            \n",
       "\n",
       "    2. Do you feel any decrease in fullness of erections? Yes/No  \\\n",
       "ID                                                                 \n",
       "32                                                 yes             \n",
       "66                                                 yes             \n",
       "109                                                yes             \n",
       "151                                                yes             \n",
       "164                                                yes             \n",
       "\n",
       "    3. Do you have any difficulty in maintaining morning erections? Yes/No  \\\n",
       "ID                                                                           \n",
       "32                                                 yes                       \n",
       "66                                                 yes                       \n",
       "109                                                yes                       \n",
       "151                                                yes                       \n",
       "164                                                yes                       \n",
       "\n",
       "    4. Do you feel any decrease in physical stamina? Yes/No  \\\n",
       "ID                                                            \n",
       "32                                                 yes        \n",
       "66                                                 yes        \n",
       "109                                                yes        \n",
       "151                                                yes        \n",
       "164                                                yes        \n",
       "\n",
       "    5. Do you have recurrent premature ejaculations? A. Age of Menarche  \\\n",
       "ID                                                                        \n",
       "32                                               yes                 13   \n",
       "66                                               yes                nil   \n",
       "109                                              yes                nil   \n",
       "151                                              yes                nil   \n",
       "164                                              yes                nil   \n",
       "\n",
       "    B. Cycle length C. Regularity D. Days of flow  \\\n",
       "ID                                                  \n",
       "32           normal       regular               4   \n",
       "66              nil       regular             nil   \n",
       "109             nil       regular             nil   \n",
       "151             nil       regular             nil   \n",
       "164             nil       regular             nil   \n",
       "\n",
       "    E. Quantity of bleeding- Heavy/Normal/scanty  ...  \\\n",
       "ID                                                ...   \n",
       "32                                        normal  ...   \n",
       "66                                           nil  ...   \n",
       "109                                          nil  ...   \n",
       "151                                          nil  ...   \n",
       "164                                          nil  ...   \n",
       "\n",
       "    4. Are you suffering from hair loss? 1. Age of Menopause  \\\n",
       "ID                                                             \n",
       "32                                    no                 NaN   \n",
       "66                                    no                 NaN   \n",
       "109                                  yes                 NaN   \n",
       "151                                  yes                 NaN   \n",
       "164                                  yes                 NaN   \n",
       "\n",
       "    2. Do you have any bleeding after menopause? Yes/No  \\\n",
       "ID                                                        \n",
       "32                                                  no    \n",
       "66                                                  no    \n",
       "109                                                 no    \n",
       "151                                                yes    \n",
       "164                                                yes    \n",
       "\n",
       "    3. Do you have any disinterest in sex? Yes/No  \\\n",
       "ID                                                  \n",
       "32                                             no   \n",
       "66                                             no   \n",
       "109                                           yes   \n",
       "151                                           yes   \n",
       "164                                           yes   \n",
       "\n",
       "    4. Are you suffering from severe mood swings? Yes/No  \\\n",
       "ID                                                         \n",
       "32                                                  no     \n",
       "66                                                  no     \n",
       "109                                                 no     \n",
       "151                                                 no     \n",
       "164                                                 no     \n",
       "\n",
       "    5. Do you feel any hot flushes? Yes/No  \\\n",
       "ID                                           \n",
       "32                                     yes   \n",
       "66                                     yes   \n",
       "109                                     no   \n",
       "151                                     no   \n",
       "164                                     no   \n",
       "\n",
       "     1. Do you feel forgetfulness, these days?  \\\n",
       "ID                                               \n",
       "32                                          no   \n",
       "66                                         yes   \n",
       "109                                        yes   \n",
       "151                                        yes   \n",
       "164                                        yes   \n",
       "\n",
       "    2. Do you feel it is difficult to be attentive in your studies?  \\\n",
       "ID                                                                    \n",
       "32                                                 yes                \n",
       "66                                                 yes                \n",
       "109                                                yes                \n",
       "151                                                yes                \n",
       "164                                                yes                \n",
       "\n",
       "    3. Do you feel sleepy during study time?  \\\n",
       "ID                                             \n",
       "32                                        no   \n",
       "66                                        no   \n",
       "109                                       no   \n",
       "151                                       no   \n",
       "164                                       no   \n",
       "\n",
       "    4. How will you describe yourself? Sluggish/Active/Hyperactive  \n",
       "ID                                                                  \n",
       "32                                            sluggish              \n",
       "66                                              active              \n",
       "109                                             active              \n",
       "151                                             active              \n",
       "164                                             active              \n",
       "\n",
       "[5 rows x 25 columns]"
      ]
     },
     "execution_count": 88,
     "metadata": {},
     "output_type": "execute_result"
    }
   ],
   "source": [
    "df5.head()"
   ]
  },
  {
   "cell_type": "markdown",
   "id": "f41074f0",
   "metadata": {},
   "source": [
    "  "
   ]
  },
  {
   "cell_type": "markdown",
   "id": "cd0af80c",
   "metadata": {},
   "source": [
    "### Menstruation (Female)"
   ]
  },
  {
   "cell_type": "code",
   "execution_count": 89,
   "id": "07f405cb",
   "metadata": {},
   "outputs": [
    {
     "data": {
      "text/plain": [
       "nil    19\n",
       "13      3\n",
       "11      1\n",
       "Name: A. Age of Menarche, dtype: int64"
      ]
     },
     "execution_count": 89,
     "metadata": {},
     "output_type": "execute_result"
    }
   ],
   "source": [
    "df5['A. Age of Menarche'].value_counts()"
   ]
  },
  {
   "cell_type": "code",
   "execution_count": 90,
   "id": "e5f402e9",
   "metadata": {},
   "outputs": [
    {
     "data": {
      "text/plain": [
       "nil                  16\n",
       "normal                6\n",
       "less than 24 days     1\n",
       "Name: B. Cycle length, dtype: int64"
      ]
     },
     "execution_count": 90,
     "metadata": {},
     "output_type": "execute_result"
    }
   ],
   "source": [
    "df5['B. Cycle length'].value_counts()"
   ]
  },
  {
   "cell_type": "code",
   "execution_count": 91,
   "id": "ba6d723d",
   "metadata": {},
   "outputs": [
    {
     "data": {
      "text/plain": [
       "regular      22\n",
       "irregular     1\n",
       "Name: C. Regularity, dtype: int64"
      ]
     },
     "execution_count": 91,
     "metadata": {},
     "output_type": "execute_result"
    }
   ],
   "source": [
    "df5['C. Regularity'].value_counts()"
   ]
  },
  {
   "cell_type": "code",
   "execution_count": 92,
   "id": "ac14d7c4",
   "metadata": {},
   "outputs": [
    {
     "data": {
      "text/plain": [
       "nil    20\n",
       "4       3\n",
       "Name: D. Days of flow, dtype: int64"
      ]
     },
     "execution_count": 92,
     "metadata": {},
     "output_type": "execute_result"
    }
   ],
   "source": [
    "df5['D. Days of flow'].value_counts()"
   ]
  },
  {
   "cell_type": "code",
   "execution_count": 93,
   "id": "ca0e3502",
   "metadata": {},
   "outputs": [
    {
     "data": {
      "text/plain": [
       "nil       19\n",
       "normal     2\n",
       "heavy      2\n",
       "Name: E. Quantity of bleeding- Heavy/Normal/scanty, dtype: int64"
      ]
     },
     "execution_count": 93,
     "metadata": {},
     "output_type": "execute_result"
    }
   ],
   "source": [
    "df5['E. Quantity of bleeding- Heavy/Normal/scanty'].value_counts()"
   ]
  },
  {
   "cell_type": "code",
   "execution_count": 94,
   "id": "7e0fc620",
   "metadata": {},
   "outputs": [
    {
     "data": {
      "text/plain": [
       "no     16\n",
       "yes     7\n",
       "Name: F. Clots, dtype: int64"
      ]
     },
     "execution_count": 94,
     "metadata": {},
     "output_type": "execute_result"
    }
   ],
   "source": [
    "df5['F. Clots'].value_counts()"
   ]
  },
  {
   "cell_type": "code",
   "execution_count": 95,
   "id": "0df210bc",
   "metadata": {},
   "outputs": [
    {
     "data": {
      "text/plain": [
       "no     20\n",
       "yes     3\n",
       "Name: G. Abnormal discharges, dtype: int64"
      ]
     },
     "execution_count": 95,
     "metadata": {},
     "output_type": "execute_result"
    }
   ],
   "source": [
    "df5['G. Abnormal discharges'].value_counts()"
   ]
  },
  {
   "cell_type": "code",
   "execution_count": 96,
   "id": "e7afab17",
   "metadata": {},
   "outputs": [
    {
     "data": {
      "text/plain": [
       "nil                      19\n",
       "yes                       2\n",
       "pain,cramps,depressed     1\n",
       "pain,cramps,              1\n",
       "Name: H. Associated symptoms- Pains/PMS/cramps/Low Back pain/ Mood Swings/Depressed, dtype: int64"
      ]
     },
     "execution_count": 96,
     "metadata": {},
     "output_type": "execute_result"
    }
   ],
   "source": [
    "df5['H. Associated symptoms- Pains/PMS/cramps/Low Back pain/ Mood Swings/Depressed'].value_counts()"
   ]
  },
  {
   "cell_type": "markdown",
   "id": "470de0de",
   "metadata": {},
   "source": [
    "  "
   ]
  },
  {
   "cell_type": "markdown",
   "id": "107d4ac6",
   "metadata": {},
   "source": [
    "### Menopausal (Females Only)"
   ]
  },
  {
   "cell_type": "code",
   "execution_count": 97,
   "id": "8af27440",
   "metadata": {},
   "outputs": [
    {
     "data": {
      "text/plain": [
       "Series([], Name: 1. Age of Menopause, dtype: int64)"
      ]
     },
     "execution_count": 97,
     "metadata": {},
     "output_type": "execute_result"
    }
   ],
   "source": [
    "df5['1. Age of Menopause'].value_counts()\n",
    "# Empty colunm"
   ]
  },
  {
   "cell_type": "code",
   "execution_count": 98,
   "id": "f2084501",
   "metadata": {},
   "outputs": [
    {
     "data": {
      "image/png": "[encoded data removed]",
      "text/plain": [
       "<Figure size 432x288 with 1 Axes>"
      ]
     },
     "metadata": {},
     "output_type": "display_data"
    }
   ],
   "source": [
    "mq2=df5['2. Do you have any bleeding after menopause? Yes/No'].value_counts()\n",
    "plt.pie(mq2,labels=('yes','no'),autopct='%1.2f%%')\n",
    "plt.title('Do you have any bleeding after menopause?')\n",
    "plt.show()"
   ]
  },
  {
   "cell_type": "code",
   "execution_count": 99,
   "id": "349e77d6",
   "metadata": {},
   "outputs": [
    {
     "data": {
      "image/png": "[encoded data removed]",
      "text/plain": [
       "<Figure size 432x288 with 1 Axes>"
      ]
     },
     "metadata": {},
     "output_type": "display_data"
    }
   ],
   "source": [
    "mq3=df5['3. Do you have any disinterest in sex? Yes/No'].value_counts()\n",
    "plt.pie(mq3,labels=('yes','no'),autopct='%1.2f%%')\n",
    "plt.title('Do you have any disinterest in sex?')\n",
    "plt.show()"
   ]
  },
  {
   "cell_type": "code",
   "execution_count": 100,
   "id": "adb338ea",
   "metadata": {},
   "outputs": [
    {
     "data": {
      "image/png": "[encoded data removed]",
      "text/plain": [
       "<Figure size 432x288 with 1 Axes>"
      ]
     },
     "metadata": {},
     "output_type": "display_data"
    }
   ],
   "source": [
    "mq4=df5['4. Are you suffering from severe mood swings? Yes/No'].value_counts()\n",
    "plt.pie(mq4,labels=('yes','no'),autopct='%1.2f%%')\n",
    "plt.title('Are you suffering from severe mood swings?')\n",
    "plt.show()"
   ]
  },
  {
   "cell_type": "code",
   "execution_count": 101,
   "id": "f02b6252",
   "metadata": {},
   "outputs": [
    {
     "data": {
      "image/png": "[encoded data removed]",
      "text/plain": [
       "<Figure size 432x288 with 1 Axes>"
      ]
     },
     "metadata": {},
     "output_type": "display_data"
    }
   ],
   "source": [
    "mq5=df5['5. Do you feel any hot flushes? Yes/No'].value_counts()\n",
    "plt.pie(mq5,labels=('yes','no'),autopct='%1.2f%%')\n",
    "plt.title('Do you feel any hot flushes?')\n",
    "plt.show()"
   ]
  },
  {
   "cell_type": "markdown",
   "id": "cfe60f86",
   "metadata": {},
   "source": [
    "### Sexual health(Male)"
   ]
  },
  {
   "cell_type": "code",
   "execution_count": 102,
   "id": "18d47496",
   "metadata": {},
   "outputs": [
    {
     "data": {
      "text/plain": [
       "yes    22\n",
       "no      1\n",
       "Name: 1. Do you feel any urgency in urination, these days? Yes/No, dtype: int64"
      ]
     },
     "execution_count": 102,
     "metadata": {},
     "output_type": "execute_result"
    }
   ],
   "source": [
    "df5['1. Do you feel any urgency in urination, these days? Yes/No'].value_counts()"
   ]
  },
  {
   "cell_type": "code",
   "execution_count": 103,
   "id": "617fbbcb",
   "metadata": {},
   "outputs": [
    {
     "data": {
      "text/plain": [
       "yes    22\n",
       "no      1\n",
       "Name: 2. Do you feel any decrease in fullness of erections? Yes/No, dtype: int64"
      ]
     },
     "execution_count": 103,
     "metadata": {},
     "output_type": "execute_result"
    }
   ],
   "source": [
    "df5['2. Do you feel any decrease in fullness of erections? Yes/No'].value_counts()"
   ]
  },
  {
   "cell_type": "code",
   "execution_count": 104,
   "id": "c79d5c1e",
   "metadata": {},
   "outputs": [
    {
     "data": {
      "text/plain": [
       "yes    22\n",
       "no      1\n",
       "Name: 3. Do you have any difficulty in maintaining morning erections? Yes/No, dtype: int64"
      ]
     },
     "execution_count": 104,
     "metadata": {},
     "output_type": "execute_result"
    }
   ],
   "source": [
    "df5['3. Do you have any difficulty in maintaining morning erections? Yes/No'].value_counts()"
   ]
  },
  {
   "cell_type": "code",
   "execution_count": 105,
   "id": "c81acba4",
   "metadata": {},
   "outputs": [
    {
     "data": {
      "text/plain": [
       "yes    22\n",
       "no      1\n",
       "Name: 4. Do you feel any decrease in physical stamina? Yes/No, dtype: int64"
      ]
     },
     "execution_count": 105,
     "metadata": {},
     "output_type": "execute_result"
    }
   ],
   "source": [
    "df5['4. Do you feel any decrease in physical stamina? Yes/No'].value_counts()"
   ]
  },
  {
   "cell_type": "code",
   "execution_count": 106,
   "id": "76591da4",
   "metadata": {},
   "outputs": [
    {
     "data": {
      "text/plain": [
       "yes    22\n",
       "no      1\n",
       "Name: 5. Do you have recurrent premature ejaculations?, dtype: int64"
      ]
     },
     "execution_count": 106,
     "metadata": {},
     "output_type": "execute_result"
    }
   ],
   "source": [
    "df5['5. Do you have recurrent premature ejaculations?'].value_counts()"
   ]
  },
  {
   "cell_type": "markdown",
   "id": "a506293e",
   "metadata": {},
   "source": [
    "  "
   ]
  },
  {
   "cell_type": "markdown",
   "id": "73eaf72b",
   "metadata": {},
   "source": [
    " ### Other Questions"
   ]
  },
  {
   "cell_type": "code",
   "execution_count": 107,
   "id": "b1bddfff",
   "metadata": {},
   "outputs": [
    {
     "data": {
      "text/plain": [
       "no     12\n",
       "yes    11\n",
       "Name: 1. Do you feel forgetfulness, these days?, dtype: int64"
      ]
     },
     "execution_count": 107,
     "metadata": {},
     "output_type": "execute_result"
    }
   ],
   "source": [
    "df5['1. Do you feel forgetfulness, these days?'].value_counts()"
   ]
  },
  {
   "cell_type": "code",
   "execution_count": 108,
   "id": "f0f98e8d",
   "metadata": {},
   "outputs": [
    {
     "data": {
      "text/plain": [
       "yes    17\n",
       "no      6\n",
       "Name: 2. Do you feel it is difficult to be attentive in your studies?, dtype: int64"
      ]
     },
     "execution_count": 108,
     "metadata": {},
     "output_type": "execute_result"
    }
   ],
   "source": [
    "df5['2. Do you feel it is difficult to be attentive in your studies?'].value_counts()"
   ]
  },
  {
   "cell_type": "code",
   "execution_count": 109,
   "id": "4a41ef87",
   "metadata": {},
   "outputs": [
    {
     "data": {
      "text/plain": [
       "no     19\n",
       "yes     4\n",
       "Name: 3. Do you feel sleepy during study time?, dtype: int64"
      ]
     },
     "execution_count": 109,
     "metadata": {},
     "output_type": "execute_result"
    }
   ],
   "source": [
    "df5['3. Do you feel sleepy during study time?'].value_counts()"
   ]
  },
  {
   "cell_type": "code",
   "execution_count": 110,
   "id": "2b1e9373",
   "metadata": {},
   "outputs": [
    {
     "data": {
      "text/plain": [
       "Text(0.5, 1.0, 'How will you describe yourself?')"
      ]
     },
     "execution_count": 110,
     "metadata": {},
     "output_type": "execute_result"
    },
    {
     "data": {
      "image/png": "[encoded data removed]",
      "text/plain": [
       "<Figure size 432x288 with 1 Axes>"
      ]
     },
     "metadata": {
      "needs_background": "light"
     },
     "output_type": "display_data"
    }
   ],
   "source": [
    "df5['4. How will you describe yourself? Sluggish/Active/Hyperactive'].value_counts().plot(kind='bar',color='green')\n",
    "plt.title('How will you describe yourself?')"
   ]
  },
  {
   "cell_type": "markdown",
   "id": "09484771",
   "metadata": {},
   "source": [
    "### Other Survey Question"
   ]
  },
  {
   "cell_type": "code",
   "execution_count": 111,
   "id": "ea6d6aee",
   "metadata": {},
   "outputs": [],
   "source": [
    "df6=pd.read_excel('assignment.xlsx',sheet_name='Sheet7')"
   ]
  },
  {
   "cell_type": "code",
   "execution_count": 112,
   "id": "05b601e8",
   "metadata": {},
   "outputs": [],
   "source": [
    "df6=df6.set_index('ID')"
   ]
  },
  {
   "cell_type": "code",
   "execution_count": 113,
   "id": "d4610a14",
   "metadata": {},
   "outputs": [
    {
     "data": {
      "text/html": [
       "<div>\n",
       "<style scoped>\n",
       "    .dataframe tbody tr th:only-of-type {\n",
       "        vertical-align: middle;\n",
       "    }\n",
       "\n",
       "    .dataframe tbody tr th {\n",
       "        vertical-align: top;\n",
       "    }\n",
       "\n",
       "    .dataframe thead th {\n",
       "        text-align: right;\n",
       "    }\n",
       "</style>\n",
       "<table border=\"1\" class=\"dataframe\">\n",
       "  <thead>\n",
       "    <tr style=\"text-align: right;\">\n",
       "      <th></th>\n",
       "      <th>1. Are you suffering from any lifestyle diseases of the following?</th>\n",
       "      <th>2. How long are you suffering?</th>\n",
       "      <th>3. Present system of Treatment?</th>\n",
       "      <th>4. Present Medications?</th>\n",
       "      <th>5. Do you have any Family History of the following diseases?</th>\n",
       "      <th>6. Have you undergone any major surgery(ies)? Yes/No; if yes please specify</th>\n",
       "      <th>7. Are you suffering from any of the following symptoms, these days?</th>\n",
       "      <th>8. Do you have any Drug allergies?</th>\n",
       "      <th>9. Are you having any form of physical disability?</th>\n",
       "      <th>10. Are you suffering from any of the following?(Depression; Anxiety; ADHD; Bipolar Disorder; Schizophrenia etc)</th>\n",
       "      <th>11. How do you describe yourself?</th>\n",
       "      <th>(IF SPORT PERSON)</th>\n",
       "      <th>(IF FITNESS ENTHUSIAST)</th>\n",
       "      <th>Do you exercise regularly</th>\n",
       "    </tr>\n",
       "    <tr>\n",
       "      <th>ID</th>\n",
       "      <th></th>\n",
       "      <th></th>\n",
       "      <th></th>\n",
       "      <th></th>\n",
       "      <th></th>\n",
       "      <th></th>\n",
       "      <th></th>\n",
       "      <th></th>\n",
       "      <th></th>\n",
       "      <th></th>\n",
       "      <th></th>\n",
       "      <th></th>\n",
       "      <th></th>\n",
       "      <th></th>\n",
       "    </tr>\n",
       "  </thead>\n",
       "  <tbody>\n",
       "    <tr>\n",
       "      <th>32</th>\n",
       "      <td>no</td>\n",
       "      <td>nil</td>\n",
       "      <td>nil</td>\n",
       "      <td>yes</td>\n",
       "      <td>yes</td>\n",
       "      <td>no</td>\n",
       "      <td>no</td>\n",
       "      <td>no</td>\n",
       "      <td>no</td>\n",
       "      <td>nil</td>\n",
       "      <td>not applicable</td>\n",
       "      <td>yes</td>\n",
       "      <td>yes</td>\n",
       "      <td>yes</td>\n",
       "    </tr>\n",
       "    <tr>\n",
       "      <th>66</th>\n",
       "      <td>no</td>\n",
       "      <td>nil</td>\n",
       "      <td>nil</td>\n",
       "      <td>yes</td>\n",
       "      <td>yes</td>\n",
       "      <td>no</td>\n",
       "      <td>no</td>\n",
       "      <td>no</td>\n",
       "      <td>no</td>\n",
       "      <td>nil</td>\n",
       "      <td>not applicable</td>\n",
       "      <td>yes</td>\n",
       "      <td>yes</td>\n",
       "      <td>yes</td>\n",
       "    </tr>\n",
       "    <tr>\n",
       "      <th>109</th>\n",
       "      <td>no</td>\n",
       "      <td>nil</td>\n",
       "      <td>nil</td>\n",
       "      <td>yes</td>\n",
       "      <td>yes</td>\n",
       "      <td>no</td>\n",
       "      <td>no</td>\n",
       "      <td>no</td>\n",
       "      <td>no</td>\n",
       "      <td>nil</td>\n",
       "      <td>nil</td>\n",
       "      <td>yes</td>\n",
       "      <td>yes</td>\n",
       "      <td>yes</td>\n",
       "    </tr>\n",
       "    <tr>\n",
       "      <th>151</th>\n",
       "      <td>no</td>\n",
       "      <td>nil</td>\n",
       "      <td>nil</td>\n",
       "      <td>yes</td>\n",
       "      <td>yes</td>\n",
       "      <td>no</td>\n",
       "      <td>no</td>\n",
       "      <td>no</td>\n",
       "      <td>no</td>\n",
       "      <td>nil</td>\n",
       "      <td>not applicable</td>\n",
       "      <td>yes</td>\n",
       "      <td>yes</td>\n",
       "      <td>yes</td>\n",
       "    </tr>\n",
       "    <tr>\n",
       "      <th>164</th>\n",
       "      <td>no</td>\n",
       "      <td>nil</td>\n",
       "      <td>nil</td>\n",
       "      <td>yes</td>\n",
       "      <td>yes</td>\n",
       "      <td>no</td>\n",
       "      <td>no</td>\n",
       "      <td>no</td>\n",
       "      <td>no</td>\n",
       "      <td>nil</td>\n",
       "      <td>not applicable</td>\n",
       "      <td>yes</td>\n",
       "      <td>yes</td>\n",
       "      <td>yes</td>\n",
       "    </tr>\n",
       "  </tbody>\n",
       "</table>\n",
       "</div>"
      ],
      "text/plain": [
       "    1. Are you suffering from any lifestyle diseases of the following?   \\\n",
       "ID                                                                        \n",
       "32                                                  no                    \n",
       "66                                                  no                    \n",
       "109                                                 no                    \n",
       "151                                                 no                    \n",
       "164                                                 no                    \n",
       "\n",
       "    2. How long are you suffering? 3. Present system of Treatment?  \\\n",
       "ID                                                                   \n",
       "32                             nil                             nil   \n",
       "66                             nil                             nil   \n",
       "109                            nil                             nil   \n",
       "151                            nil                             nil   \n",
       "164                            nil                             nil   \n",
       "\n",
       "    4. Present Medications?  \\\n",
       "ID                            \n",
       "32                      yes   \n",
       "66                      yes   \n",
       "109                     yes   \n",
       "151                     yes   \n",
       "164                     yes   \n",
       "\n",
       "    5. Do you have any Family History of the following diseases?  \\\n",
       "ID                                                                 \n",
       "32                                                 yes             \n",
       "66                                                 yes             \n",
       "109                                                yes             \n",
       "151                                                yes             \n",
       "164                                                yes             \n",
       "\n",
       "    6. Have you undergone any major surgery(ies)? Yes/No; if yes please specify  \\\n",
       "ID                                                                                \n",
       "32                                                  no                            \n",
       "66                                                  no                            \n",
       "109                                                 no                            \n",
       "151                                                 no                            \n",
       "164                                                 no                            \n",
       "\n",
       "    7. Are you suffering from any of the following symptoms, these days?  \\\n",
       "ID                                                                         \n",
       "32                                                  no                     \n",
       "66                                                  no                     \n",
       "109                                                 no                     \n",
       "151                                                 no                     \n",
       "164                                                 no                     \n",
       "\n",
       "    8. Do you have any Drug allergies?   \\\n",
       "ID                                        \n",
       "32                                   no   \n",
       "66                                   no   \n",
       "109                                  no   \n",
       "151                                  no   \n",
       "164                                  no   \n",
       "\n",
       "    9. Are you having any form of physical disability?  \\\n",
       "ID                                                       \n",
       "32                                                  no   \n",
       "66                                                  no   \n",
       "109                                                 no   \n",
       "151                                                 no   \n",
       "164                                                 no   \n",
       "\n",
       "    10. Are you suffering from any of the following?(Depression; Anxiety; ADHD; Bipolar Disorder; Schizophrenia etc)  \\\n",
       "ID                                                                                                                     \n",
       "32                                                 nil                                                                 \n",
       "66                                                 nil                                                                 \n",
       "109                                                nil                                                                 \n",
       "151                                                nil                                                                 \n",
       "164                                                nil                                                                 \n",
       "\n",
       "    11. How do you describe yourself? (IF SPORT PERSON)  \\\n",
       "ID                                                        \n",
       "32                     not applicable               yes   \n",
       "66                     not applicable               yes   \n",
       "109                               nil               yes   \n",
       "151                    not applicable               yes   \n",
       "164                    not applicable               yes   \n",
       "\n",
       "    (IF FITNESS ENTHUSIAST)  Do you exercise regularly  \n",
       "ID                                                      \n",
       "32                       yes                       yes  \n",
       "66                       yes                       yes  \n",
       "109                      yes                       yes  \n",
       "151                      yes                       yes  \n",
       "164                      yes                       yes  "
      ]
     },
     "execution_count": 113,
     "metadata": {},
     "output_type": "execute_result"
    }
   ],
   "source": [
    "df6.head()"
   ]
  },
  {
   "cell_type": "code",
   "execution_count": 114,
   "id": "24798a0d",
   "metadata": {},
   "outputs": [
    {
     "data": {
      "text/plain": [
       "no     17\n",
       "yes     6\n",
       "Name: 1. Are you suffering from any lifestyle diseases of the following? , dtype: int64"
      ]
     },
     "execution_count": 114,
     "metadata": {},
     "output_type": "execute_result"
    }
   ],
   "source": [
    "df6['1. Are you suffering from any lifestyle diseases of the following? '].value_counts()"
   ]
  },
  {
   "cell_type": "code",
   "execution_count": 115,
   "id": "91f0c053",
   "metadata": {},
   "outputs": [
    {
     "data": {
      "text/plain": [
       "nil        22\n",
       "4 years     1\n",
       "Name: 2. How long are you suffering?, dtype: int64"
      ]
     },
     "execution_count": 115,
     "metadata": {},
     "output_type": "execute_result"
    }
   ],
   "source": [
    "df6['2. How long are you suffering?'].value_counts()"
   ]
  },
  {
   "cell_type": "code",
   "execution_count": 116,
   "id": "b1a71219",
   "metadata": {},
   "outputs": [
    {
     "data": {
      "text/plain": [
       "nil           22\n",
       "medication     1\n",
       "Name: 3. Present system of Treatment?, dtype: int64"
      ]
     },
     "execution_count": 116,
     "metadata": {},
     "output_type": "execute_result"
    }
   ],
   "source": [
    "df6['3. Present system of Treatment?'].value_counts()"
   ]
  },
  {
   "cell_type": "code",
   "execution_count": 117,
   "id": "1e5d6731",
   "metadata": {},
   "outputs": [
    {
     "data": {
      "text/plain": [
       "yes    23\n",
       "Name: 4. Present Medications?, dtype: int64"
      ]
     },
     "execution_count": 117,
     "metadata": {},
     "output_type": "execute_result"
    }
   ],
   "source": [
    "df6['4. Present Medications?'].value_counts()"
   ]
  },
  {
   "cell_type": "code",
   "execution_count": 118,
   "id": "af7d8df8",
   "metadata": {},
   "outputs": [
    {
     "data": {
      "image/png": "[encoded data removed]",
      "text/plain": [
       "<Figure size 432x288 with 1 Axes>"
      ]
     },
     "metadata": {},
     "output_type": "display_data"
    }
   ],
   "source": [
    "sq5=df6['5. Do you have any Family History of the following diseases?'].value_counts()\n",
    "plt.pie(sq5,labels=('yes','no'),autopct='%1.2f%%')\n",
    "plt.title('Do you have any Family History of the following diseases?')\n",
    "plt.show()"
   ]
  },
  {
   "cell_type": "code",
   "execution_count": 119,
   "id": "5316cf02",
   "metadata": {},
   "outputs": [
    {
     "data": {
      "text/plain": [
       "no     20\n",
       "yes     3\n",
       "Name: 6. Have you undergone any major surgery(ies)? Yes/No; if yes please specify, dtype: int64"
      ]
     },
     "execution_count": 119,
     "metadata": {},
     "output_type": "execute_result"
    }
   ],
   "source": [
    "df6['6. Have you undergone any major surgery(ies)? Yes/No; if yes please specify'].value_counts()"
   ]
  },
  {
   "cell_type": "code",
   "execution_count": 120,
   "id": "a5752e9e",
   "metadata": {},
   "outputs": [
    {
     "data": {
      "text/plain": [
       "no     22\n",
       "yes     1\n",
       "Name: 7. Are you suffering from any of the following symptoms, these days?, dtype: int64"
      ]
     },
     "execution_count": 120,
     "metadata": {},
     "output_type": "execute_result"
    }
   ],
   "source": [
    "df6['7. Are you suffering from any of the following symptoms, these days?'].value_counts()"
   ]
  },
  {
   "cell_type": "code",
   "execution_count": 121,
   "id": "12b70de5",
   "metadata": {},
   "outputs": [
    {
     "data": {
      "text/plain": [
       "no     22\n",
       "yes     1\n",
       "Name: 8. Do you have any Drug allergies? , dtype: int64"
      ]
     },
     "execution_count": 121,
     "metadata": {},
     "output_type": "execute_result"
    }
   ],
   "source": [
    "df6['8. Do you have any Drug allergies? '].value_counts()"
   ]
  },
  {
   "cell_type": "code",
   "execution_count": 122,
   "id": "66e6054f",
   "metadata": {},
   "outputs": [
    {
     "data": {
      "text/plain": [
       "no     22\n",
       "yes     1\n",
       "Name: 9. Are you having any form of physical disability?, dtype: int64"
      ]
     },
     "execution_count": 122,
     "metadata": {},
     "output_type": "execute_result"
    }
   ],
   "source": [
    "df6['9. Are you having any form of physical disability?'].value_counts()"
   ]
  },
  {
   "cell_type": "code",
   "execution_count": 123,
   "id": "48074265",
   "metadata": {},
   "outputs": [
    {
     "data": {
      "text/plain": [
       "nil    23\n",
       "Name: 10. Are you suffering from any of the following?(Depression; Anxiety; ADHD; Bipolar Disorder; Schizophrenia etc), dtype: int64"
      ]
     },
     "execution_count": 123,
     "metadata": {},
     "output_type": "execute_result"
    }
   ],
   "source": [
    "df6['10. Are you suffering from any of the following?(Depression; Anxiety; ADHD; Bipolar Disorder; Schizophrenia etc)'].value_counts()"
   ]
  },
  {
   "cell_type": "code",
   "execution_count": 124,
   "id": "69b8b048",
   "metadata": {},
   "outputs": [
    {
     "data": {
      "text/plain": [
       "nil                  16\n",
       "not applicable        6\n",
       "(if sport person)     1\n",
       "Name: 11. How do you describe yourself?, dtype: int64"
      ]
     },
     "execution_count": 124,
     "metadata": {},
     "output_type": "execute_result"
    }
   ],
   "source": [
    "df6['11. How do you describe yourself?'].value_counts()"
   ]
  },
  {
   "cell_type": "code",
   "execution_count": 125,
   "id": "4377d90c",
   "metadata": {},
   "outputs": [
    {
     "data": {
      "text/plain": [
       "yes    23\n",
       "Name: (IF SPORT PERSON), dtype: int64"
      ]
     },
     "execution_count": 125,
     "metadata": {},
     "output_type": "execute_result"
    }
   ],
   "source": [
    "df6['(IF SPORT PERSON)'].value_counts()"
   ]
  },
  {
   "cell_type": "code",
   "execution_count": 126,
   "id": "bb4c02b9",
   "metadata": {},
   "outputs": [
    {
     "data": {
      "text/plain": [
       "yes    20\n",
       "no      3\n",
       "Name: (IF FITNESS ENTHUSIAST) , dtype: int64"
      ]
     },
     "execution_count": 126,
     "metadata": {},
     "output_type": "execute_result"
    }
   ],
   "source": [
    "df6['(IF FITNESS ENTHUSIAST) '].value_counts()"
   ]
  },
  {
   "cell_type": "code",
   "execution_count": 127,
   "id": "e5d78dad",
   "metadata": {},
   "outputs": [
    {
     "data": {
      "text/plain": [
       "yes    23\n",
       "Name: Do you exercise regularly, dtype: int64"
      ]
     },
     "execution_count": 127,
     "metadata": {},
     "output_type": "execute_result"
    }
   ],
   "source": [
    "df6['Do you exercise regularly'].value_counts()"
   ]
  },
  {
   "cell_type": "code",
   "execution_count": null,
   "id": "fa823595",
   "metadata": {},
   "outputs": [],
   "source": []
  }
 ],
 "metadata": {
  "kernelspec": {
   "display_name": "Python 3 (ipykernel)",
   "language": "python",
   "name": "python3"
  },
  "language_info": {
   "codemirror_mode": {
    "name": "ipython",
    "version": 3
   },
   "file_extension": ".py",
   "mimetype": "text/x-python",
   "name": "python",
   "nbconvert_exporter": "python",
   "pygments_lexer": "ipython3",
   "version": "3.9.12"
  }
 },
 "nbformat": 4,
 "nbformat_minor": 5
}
